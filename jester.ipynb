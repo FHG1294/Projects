{
 "cells": [
  {
   "cell_type": "code",
   "execution_count": 30,
   "metadata": {},
   "outputs": [],
   "source": [
    "# Importing libraries\n",
    "import pandas as pd\n",
    "import numpy as np\n",
    "import seaborn as sns\n",
    "import matplotlib.pyplot as plt\n",
    "from io import StringIO\n",
    "from io import StringIO\n",
    "import tarfile\n",
    "from sklearn.model_selection import train_test_split as split_sk\n",
    "import surprise\n",
    "from surprise import Dataset, SVD\n",
    "from surprise.model_selection import cross_validate\n",
    "#from surprise.model_selection import train_test_split\n",
    "from surprise import accuracy, Dataset, SVD\n",
    "from surprise.model_selection import GridSearchCV"
   ]
  },
  {
   "cell_type": "code",
   "execution_count": 2,
   "metadata": {},
   "outputs": [],
   "source": [
    "dfit = pd.read_csv('jester_items.csv')\n",
    "dfrt = pd.read_csv('jester_ratings.csv')"
   ]
  },
  {
   "cell_type": "code",
   "execution_count": 8,
   "metadata": {},
   "outputs": [
    {
     "name": "stdout",
     "output_type": "stream",
     "text": [
      "<class 'pandas.core.frame.DataFrame'>\n",
      "Int64Index: 1761439 entries, 0 to 1761438\n",
      "Data columns (total 4 columns):\n",
      " #   Column    Dtype  \n",
      "---  ------    -----  \n",
      " 0   userId    int64  \n",
      " 1   jokeId    int64  \n",
      " 2   rating    float64\n",
      " 3   jokeText  object \n",
      "dtypes: float64(1), int64(2), object(1)\n",
      "memory usage: 67.2+ MB\n"
     ]
    },
    {
     "data": {
      "text/html": [
       "<div>\n",
       "<style scoped>\n",
       "    .dataframe tbody tr th:only-of-type {\n",
       "        vertical-align: middle;\n",
       "    }\n",
       "\n",
       "    .dataframe tbody tr th {\n",
       "        vertical-align: top;\n",
       "    }\n",
       "\n",
       "    .dataframe thead th {\n",
       "        text-align: right;\n",
       "    }\n",
       "</style>\n",
       "<table border=\"1\" class=\"dataframe\">\n",
       "  <thead>\n",
       "    <tr style=\"text-align: right;\">\n",
       "      <th></th>\n",
       "      <th>userId</th>\n",
       "      <th>jokeId</th>\n",
       "      <th>rating</th>\n",
       "      <th>jokeText</th>\n",
       "    </tr>\n",
       "  </thead>\n",
       "  <tbody>\n",
       "    <tr>\n",
       "      <th>0</th>\n",
       "      <td>1</td>\n",
       "      <td>5</td>\n",
       "      <td>0.219</td>\n",
       "      <td>Q.\\tWhat's O. J. Simpson's Internet address? \\...</td>\n",
       "    </tr>\n",
       "    <tr>\n",
       "      <th>1</th>\n",
       "      <td>2</td>\n",
       "      <td>5</td>\n",
       "      <td>-9.688</td>\n",
       "      <td>Q.\\tWhat's O. J. Simpson's Internet address? \\...</td>\n",
       "    </tr>\n",
       "    <tr>\n",
       "      <th>2</th>\n",
       "      <td>3</td>\n",
       "      <td>5</td>\n",
       "      <td>-9.844</td>\n",
       "      <td>Q.\\tWhat's O. J. Simpson's Internet address? \\...</td>\n",
       "    </tr>\n",
       "    <tr>\n",
       "      <th>3</th>\n",
       "      <td>4</td>\n",
       "      <td>5</td>\n",
       "      <td>-5.812</td>\n",
       "      <td>Q.\\tWhat's O. J. Simpson's Internet address? \\...</td>\n",
       "    </tr>\n",
       "    <tr>\n",
       "      <th>4</th>\n",
       "      <td>5</td>\n",
       "      <td>5</td>\n",
       "      <td>6.906</td>\n",
       "      <td>Q.\\tWhat's O. J. Simpson's Internet address? \\...</td>\n",
       "    </tr>\n",
       "  </tbody>\n",
       "</table>\n",
       "</div>"
      ],
      "text/plain": [
       "   userId  jokeId  rating                                           jokeText\n",
       "0       1       5   0.219  Q.\\tWhat's O. J. Simpson's Internet address? \\...\n",
       "1       2       5  -9.688  Q.\\tWhat's O. J. Simpson's Internet address? \\...\n",
       "2       3       5  -9.844  Q.\\tWhat's O. J. Simpson's Internet address? \\...\n",
       "3       4       5  -5.812  Q.\\tWhat's O. J. Simpson's Internet address? \\...\n",
       "4       5       5   6.906  Q.\\tWhat's O. J. Simpson's Internet address? \\..."
      ]
     },
     "execution_count": 8,
     "metadata": {},
     "output_type": "execute_result"
    }
   ],
   "source": [
    "merged = pd.merge(dfrt, dfit, on='jokeId')\n",
    "#merged = merged.reset_index(drop=True)\n",
    "#merged[\"rating\"] = merged[\"rating\"].astype(\"float16\")\n",
    "#merged[\"jokeId\"] = merged[\"jokeId\"].astype(\"int16\")\n",
    "#merged[\"userId\"] = merged[\"userId\"].astype(\"int16\")\n",
    "#merged[\"jokeText\"] = merged[\"jokeText\"].astype(\"str\")\n",
    "merged.info()\n",
    "merged.head()"
   ]
  },
  {
   "cell_type": "code",
   "execution_count": 4,
   "metadata": {},
   "outputs": [
    {
     "data": {
      "text/plain": [
       "(1761439, 4)"
      ]
     },
     "execution_count": 4,
     "metadata": {},
     "output_type": "execute_result"
    }
   ],
   "source": [
    "merged.shape"
   ]
  },
  {
   "cell_type": "code",
   "execution_count": 5,
   "metadata": {},
   "outputs": [
    {
     "name": "stderr",
     "output_type": "stream",
     "text": [
      "C:\\Users\\franh\\AppData\\Local\\Temp\\ipykernel_22456\\1532120522.py:1: FutureWarning: The default value of numeric_only in DataFrame.corr is deprecated. In a future version, it will default to False. Select only valid columns or specify the value of numeric_only to silence this warning.\n",
      "  sns.heatmap(merged.corr(), annot = True)\n"
     ]
    },
    {
     "data": {
      "text/plain": [
       "<Axes: >"
      ]
     },
     "execution_count": 5,
     "metadata": {},
     "output_type": "execute_result"
    },
    {
     "data": {
      "image/png": "[encoded data removed]",
      "text/plain": [
       "<Figure size 640x480 with 2 Axes>"
      ]
     },
     "metadata": {},
     "output_type": "display_data"
    }
   ],
   "source": [
    "sns.heatmap(merged.corr(), annot = True)"
   ]
  },
  {
   "attachments": {},
   "cell_type": "markdown",
   "metadata": {},
   "source": [
    "## <b>3<span style='color:#F76251'>|</span> Data Preprocessing"
   ]
  },
  {
   "cell_type": "code",
   "execution_count": 40,
   "metadata": {},
   "outputs": [
    {
     "data": {
      "text/html": [
       "<div>\n",
       "<style scoped>\n",
       "    .dataframe tbody tr th:only-of-type {\n",
       "        vertical-align: middle;\n",
       "    }\n",
       "\n",
       "    .dataframe tbody tr th {\n",
       "        vertical-align: top;\n",
       "    }\n",
       "\n",
       "    .dataframe thead th {\n",
       "        text-align: right;\n",
       "    }\n",
       "</style>\n",
       "<table border=\"1\" class=\"dataframe\">\n",
       "  <thead>\n",
       "    <tr style=\"text-align: right;\">\n",
       "      <th>jokeId</th>\n",
       "      <th>5</th>\n",
       "      <th>7</th>\n",
       "      <th>8</th>\n",
       "      <th>13</th>\n",
       "      <th>15</th>\n",
       "      <th>16</th>\n",
       "      <th>17</th>\n",
       "      <th>18</th>\n",
       "      <th>19</th>\n",
       "      <th>20</th>\n",
       "      <th>...</th>\n",
       "      <th>141</th>\n",
       "      <th>142</th>\n",
       "      <th>143</th>\n",
       "      <th>144</th>\n",
       "      <th>145</th>\n",
       "      <th>146</th>\n",
       "      <th>147</th>\n",
       "      <th>148</th>\n",
       "      <th>149</th>\n",
       "      <th>150</th>\n",
       "    </tr>\n",
       "    <tr>\n",
       "      <th>userId</th>\n",
       "      <th></th>\n",
       "      <th></th>\n",
       "      <th></th>\n",
       "      <th></th>\n",
       "      <th></th>\n",
       "      <th></th>\n",
       "      <th></th>\n",
       "      <th></th>\n",
       "      <th></th>\n",
       "      <th></th>\n",
       "      <th></th>\n",
       "      <th></th>\n",
       "      <th></th>\n",
       "      <th></th>\n",
       "      <th></th>\n",
       "      <th></th>\n",
       "      <th></th>\n",
       "      <th></th>\n",
       "      <th></th>\n",
       "      <th></th>\n",
       "      <th></th>\n",
       "    </tr>\n",
       "  </thead>\n",
       "  <tbody>\n",
       "    <tr>\n",
       "      <th>1</th>\n",
       "      <td>0.219</td>\n",
       "      <td>-9.281</td>\n",
       "      <td>-9.281</td>\n",
       "      <td>-6.781</td>\n",
       "      <td>0.875</td>\n",
       "      <td>-9.656</td>\n",
       "      <td>-9.031</td>\n",
       "      <td>-7.469</td>\n",
       "      <td>-8.719</td>\n",
       "      <td>-9.156</td>\n",
       "      <td>...</td>\n",
       "      <td>0.0</td>\n",
       "      <td>0.0</td>\n",
       "      <td>0.0</td>\n",
       "      <td>0.0</td>\n",
       "      <td>0.0</td>\n",
       "      <td>0.0</td>\n",
       "      <td>0.0</td>\n",
       "      <td>0.0</td>\n",
       "      <td>0.0</td>\n",
       "      <td>0.0</td>\n",
       "    </tr>\n",
       "    <tr>\n",
       "      <th>2</th>\n",
       "      <td>-9.688</td>\n",
       "      <td>9.938</td>\n",
       "      <td>9.531</td>\n",
       "      <td>9.938</td>\n",
       "      <td>0.406</td>\n",
       "      <td>3.719</td>\n",
       "      <td>9.656</td>\n",
       "      <td>-2.688</td>\n",
       "      <td>-9.562</td>\n",
       "      <td>-9.125</td>\n",
       "      <td>...</td>\n",
       "      <td>0.0</td>\n",
       "      <td>0.0</td>\n",
       "      <td>0.0</td>\n",
       "      <td>0.0</td>\n",
       "      <td>0.0</td>\n",
       "      <td>0.0</td>\n",
       "      <td>0.0</td>\n",
       "      <td>0.0</td>\n",
       "      <td>0.0</td>\n",
       "      <td>0.0</td>\n",
       "    </tr>\n",
       "    <tr>\n",
       "      <th>3</th>\n",
       "      <td>-9.844</td>\n",
       "      <td>-9.844</td>\n",
       "      <td>-7.219</td>\n",
       "      <td>-2.031</td>\n",
       "      <td>-9.938</td>\n",
       "      <td>-9.969</td>\n",
       "      <td>-9.875</td>\n",
       "      <td>-9.812</td>\n",
       "      <td>-9.781</td>\n",
       "      <td>-6.844</td>\n",
       "      <td>...</td>\n",
       "      <td>0.0</td>\n",
       "      <td>0.0</td>\n",
       "      <td>0.0</td>\n",
       "      <td>0.0</td>\n",
       "      <td>0.0</td>\n",
       "      <td>0.0</td>\n",
       "      <td>0.0</td>\n",
       "      <td>0.0</td>\n",
       "      <td>0.0</td>\n",
       "      <td>0.0</td>\n",
       "    </tr>\n",
       "    <tr>\n",
       "      <th>4</th>\n",
       "      <td>-5.812</td>\n",
       "      <td>-4.500</td>\n",
       "      <td>-4.906</td>\n",
       "      <td>0.000</td>\n",
       "      <td>0.000</td>\n",
       "      <td>0.000</td>\n",
       "      <td>0.000</td>\n",
       "      <td>0.000</td>\n",
       "      <td>0.000</td>\n",
       "      <td>0.000</td>\n",
       "      <td>...</td>\n",
       "      <td>0.0</td>\n",
       "      <td>0.0</td>\n",
       "      <td>0.0</td>\n",
       "      <td>0.0</td>\n",
       "      <td>0.0</td>\n",
       "      <td>0.0</td>\n",
       "      <td>0.0</td>\n",
       "      <td>0.0</td>\n",
       "      <td>0.0</td>\n",
       "      <td>0.0</td>\n",
       "    </tr>\n",
       "    <tr>\n",
       "      <th>5</th>\n",
       "      <td>6.906</td>\n",
       "      <td>4.750</td>\n",
       "      <td>-5.906</td>\n",
       "      <td>-0.406</td>\n",
       "      <td>-4.031</td>\n",
       "      <td>3.875</td>\n",
       "      <td>6.219</td>\n",
       "      <td>5.656</td>\n",
       "      <td>6.094</td>\n",
       "      <td>5.406</td>\n",
       "      <td>...</td>\n",
       "      <td>0.0</td>\n",
       "      <td>0.0</td>\n",
       "      <td>0.0</td>\n",
       "      <td>0.0</td>\n",
       "      <td>0.0</td>\n",
       "      <td>0.0</td>\n",
       "      <td>0.0</td>\n",
       "      <td>0.0</td>\n",
       "      <td>0.0</td>\n",
       "      <td>0.0</td>\n",
       "    </tr>\n",
       "  </tbody>\n",
       "</table>\n",
       "<p>5 rows × 140 columns</p>\n",
       "</div>"
      ],
      "text/plain": [
       "jokeId    5      7      8      13     15     16     17     18     19     20   \\\n",
       "userId                                                                         \n",
       "1       0.219 -9.281 -9.281 -6.781  0.875 -9.656 -9.031 -7.469 -8.719 -9.156   \n",
       "2      -9.688  9.938  9.531  9.938  0.406  3.719  9.656 -2.688 -9.562 -9.125   \n",
       "3      -9.844 -9.844 -7.219 -2.031 -9.938 -9.969 -9.875 -9.812 -9.781 -6.844   \n",
       "4      -5.812 -4.500 -4.906  0.000  0.000  0.000  0.000  0.000  0.000  0.000   \n",
       "5       6.906  4.750 -5.906 -0.406 -4.031  3.875  6.219  5.656  6.094  5.406   \n",
       "\n",
       "jokeId  ...  141  142  143  144  145  146  147  148  149  150  \n",
       "userId  ...                                                    \n",
       "1       ...  0.0  0.0  0.0  0.0  0.0  0.0  0.0  0.0  0.0  0.0  \n",
       "2       ...  0.0  0.0  0.0  0.0  0.0  0.0  0.0  0.0  0.0  0.0  \n",
       "3       ...  0.0  0.0  0.0  0.0  0.0  0.0  0.0  0.0  0.0  0.0  \n",
       "4       ...  0.0  0.0  0.0  0.0  0.0  0.0  0.0  0.0  0.0  0.0  \n",
       "5       ...  0.0  0.0  0.0  0.0  0.0  0.0  0.0  0.0  0.0  0.0  \n",
       "\n",
       "[5 rows x 140 columns]"
      ]
     },
     "execution_count": 40,
     "metadata": {},
     "output_type": "execute_result"
    }
   ],
   "source": [
    "# pivot the dataframe to create a matrix\n",
    "matrix = merged.pivot(index = 'userId', columns = 'jokeId', values = 'rating').fillna(0)\n",
    "matrix.head()"
   ]
  },
  {
   "cell_type": "code",
   "execution_count": 41,
   "metadata": {},
   "outputs": [],
   "source": [
    "from scipy.sparse import csr_matrix\n",
    "# CReating a spare matrix\n",
    "nmatr = csr_matrix(matrix.values)"
   ]
  },
  {
   "attachments": {},
   "cell_type": "markdown",
   "metadata": {},
   "source": [
    "## KNN "
   ]
  },
  {
   "cell_type": "code",
   "execution_count": 115,
   "metadata": {},
   "outputs": [],
   "source": [
    "X = merged[['userId', 'jokeId', 'rating']]\n",
    "y = merged['jokeText']\n",
    "\n",
    "# Split data into 80% training set and 20% test set\n",
    "X_train, X_test, y_train, y_test = split_sk(X, y, test_size=0.2, random_state=42)\n",
    "\n",
    "# Split training data into 75% training set and 25% validation set\n",
    "X_train, X_val, y_train, y_val = split_sk(X_train, y_train, test_size=0.20, random_state=42)\n"
   ]
  },
  {
   "cell_type": "code",
   "execution_count": 116,
   "metadata": {},
   "outputs": [],
   "source": [
    "# Create sparse matrix for training set\n",
    "train_matrix = pd.pivot_table(X_train, values='rating', index='userId', columns='jokeId')\n",
    "train_matrix = csr_matrix(train_matrix.fillna(0))\n",
    "\n",
    "# Create sparse matrix for validation set\n",
    "val_matrix = pd.pivot_table(X_val, values='rating', index='userId', columns='jokeId')\n",
    "val_matrix = csr_matrix(val_matrix.fillna(0))\n",
    "\n",
    "# Create sparse matrix for test set\n",
    "test_matrix = pd.pivot_table(X_test, values='rating', index='userId', columns='jokeId')\n",
    "test_matrix = csr_matrix(test_matrix.fillna(0))\n"
   ]
  },
  {
   "cell_type": "code",
   "execution_count": 118,
   "metadata": {},
   "outputs": [],
   "source": [
    "from sklearn.neighbors import NearestNeighbors\n",
    "\n",
    "# Train the model\n",
    "model_knn = NearestNeighbors(metric='cosine', algorithm='brute', n_neighbors=5)\n",
    "model_knn.fit(train_matrix)\n",
    "\n",
    "# Find k-neighbors for each user in the validation set\n",
    "distances, indices = model_knn.kneighbors(val_matrix, n_neighbors=5)"
   ]
  },
  {
   "cell_type": "code",
   "execution_count": 123,
   "metadata": {},
   "outputs": [
    {
     "name": "stdout",
     "output_type": "stream",
     "text": [
      "Indices of 5 nearest neighbors: [[  135 47924 57918 27260 54506]]\n",
      "Distances to 5 nearest neighbors: [[0.46142869 0.48331927 0.49795378 0.50140056 0.509458  ]]\n"
     ]
    }
   ],
   "source": [
    "print('Indices of 5 nearest neighbors:', indices[:1])\n",
    "print('Distances to 5 nearest neighbors:', distances[:1])"
   ]
  },
  {
   "attachments": {},
   "cell_type": "markdown",
   "metadata": {},
   "source": [
    "### Hyperparameter tunning"
   ]
  },
  {
   "cell_type": "code",
   "execution_count": 128,
   "metadata": {},
   "outputs": [
    {
     "name": "stdout",
     "output_type": "stream",
     "text": [
      "Best parameters: {'algorithm': 'brute', 'leaf_size': 10, 'n_neighbors': 10}\n"
     ]
    }
   ],
   "source": [
    "from sklearn.model_selection import GridSearchCV\n",
    "from sklearn.metrics import mean_squared_error\n",
    "from sklearn.metrics import make_scorer\n",
    "\n",
    "# Define the parameter grid to search\n",
    "param_grid = {\n",
    "    'n_neighbors': [10, 20, 30],\n",
    "    'algorithm': ['brute', 'kd_tree'],\n",
    "    'leaf_size': [10, 20, 30],\n",
    "}\n",
    "\n",
    "# Define a custom scorer that computes the mean squared error\n",
    "def mse_scorer(estimator, X, y):\n",
    "    distances, indices = estimator.kneighbors(X, n_neighbors=20)\n",
    "    y_pred = []\n",
    "    for i in range(len(indices)):\n",
    "        jokes = indices[i]\n",
    "        ratings = train_matrix[jokes, :].toarray()[0]\n",
    "        y_pred.append(np.mean(ratings[ratings != 0]))\n",
    "    return mean_squared_error(y, y_pred)\n",
    "\n",
    "# Create the k-NN model\n",
    "model_knn = NearestNeighbors(metric='cosine')\n",
    "\n",
    "# Create the GridSearchCV object with the custom scorer\n",
    "grid_search = GridSearchCV(model_knn, param_grid, cv=5, scoring=make_scorer(mse_scorer))\n",
    "\n",
    "# Fit the GridSearchCV object on the training set\n",
    "grid_search.fit(train_matrix)\n",
    "\n",
    "# Print the best parameters found\n",
    "print(\"Best parameters:\", grid_search.best_params_)"
   ]
  },
  {
   "cell_type": "code",
   "execution_count": 129,
   "metadata": {},
   "outputs": [
    {
     "ename": "ValueError",
     "evalue": "Found input variables with inconsistent numbers of samples: [352288, 52659]",
     "output_type": "error",
     "traceback": [
      "\u001b[1;31m---------------------------------------------------------------------------\u001b[0m",
      "\u001b[1;31mValueError\u001b[0m                                Traceback (most recent call last)",
      "Cell \u001b[1;32mIn[129], line 9\u001b[0m\n\u001b[0;32m      7\u001b[0m     ratings \u001b[39m=\u001b[39m train_matrix[jokes, :]\u001b[39m.\u001b[39mtoarray()[\u001b[39m0\u001b[39m]\n\u001b[0;32m      8\u001b[0m     y_pred\u001b[39m.\u001b[39mappend(np\u001b[39m.\u001b[39mmean(ratings[ratings \u001b[39m!=\u001b[39m \u001b[39m0\u001b[39m]))\n\u001b[1;32m----> 9\u001b[0m mse \u001b[39m=\u001b[39m mean_squared_error(y_test, y_pred)\n\u001b[0;32m     10\u001b[0m \u001b[39mprint\u001b[39m(\u001b[39m\"\u001b[39m\u001b[39mTest set MSE:\u001b[39m\u001b[39m\"\u001b[39m, mse)\n",
      "File \u001b[1;32mc:\\Users\\franh\\anaconda3\\lib\\site-packages\\sklearn\\metrics\\_regression.py:442\u001b[0m, in \u001b[0;36mmean_squared_error\u001b[1;34m(y_true, y_pred, sample_weight, multioutput, squared)\u001b[0m\n\u001b[0;32m    382\u001b[0m \u001b[39mdef\u001b[39;00m \u001b[39mmean_squared_error\u001b[39m(\n\u001b[0;32m    383\u001b[0m     y_true, y_pred, \u001b[39m*\u001b[39m, sample_weight\u001b[39m=\u001b[39m\u001b[39mNone\u001b[39;00m, multioutput\u001b[39m=\u001b[39m\u001b[39m\"\u001b[39m\u001b[39muniform_average\u001b[39m\u001b[39m\"\u001b[39m, squared\u001b[39m=\u001b[39m\u001b[39mTrue\u001b[39;00m\n\u001b[0;32m    384\u001b[0m ):\n\u001b[0;32m    385\u001b[0m     \u001b[39m\"\"\"Mean squared error regression loss.\u001b[39;00m\n\u001b[0;32m    386\u001b[0m \n\u001b[0;32m    387\u001b[0m \u001b[39m    Read more in the :ref:`User Guide <mean_squared_error>`.\u001b[39;00m\n\u001b[1;32m   (...)\u001b[0m\n\u001b[0;32m    440\u001b[0m \u001b[39m    0.825...\u001b[39;00m\n\u001b[0;32m    441\u001b[0m \u001b[39m    \"\"\"\u001b[39;00m\n\u001b[1;32m--> 442\u001b[0m     y_type, y_true, y_pred, multioutput \u001b[39m=\u001b[39m _check_reg_targets(\n\u001b[0;32m    443\u001b[0m         y_true, y_pred, multioutput\n\u001b[0;32m    444\u001b[0m     )\n\u001b[0;32m    445\u001b[0m     check_consistent_length(y_true, y_pred, sample_weight)\n\u001b[0;32m    446\u001b[0m     output_errors \u001b[39m=\u001b[39m np\u001b[39m.\u001b[39maverage((y_true \u001b[39m-\u001b[39m y_pred) \u001b[39m*\u001b[39m\u001b[39m*\u001b[39m \u001b[39m2\u001b[39m, axis\u001b[39m=\u001b[39m\u001b[39m0\u001b[39m, weights\u001b[39m=\u001b[39msample_weight)\n",
      "File \u001b[1;32mc:\\Users\\franh\\anaconda3\\lib\\site-packages\\sklearn\\metrics\\_regression.py:100\u001b[0m, in \u001b[0;36m_check_reg_targets\u001b[1;34m(y_true, y_pred, multioutput, dtype)\u001b[0m\n\u001b[0;32m     66\u001b[0m \u001b[39mdef\u001b[39;00m \u001b[39m_check_reg_targets\u001b[39m(y_true, y_pred, multioutput, dtype\u001b[39m=\u001b[39m\u001b[39m\"\u001b[39m\u001b[39mnumeric\u001b[39m\u001b[39m\"\u001b[39m):\n\u001b[0;32m     67\u001b[0m     \u001b[39m\"\"\"Check that y_true and y_pred belong to the same regression task.\u001b[39;00m\n\u001b[0;32m     68\u001b[0m \n\u001b[0;32m     69\u001b[0m \u001b[39m    Parameters\u001b[39;00m\n\u001b[1;32m   (...)\u001b[0m\n\u001b[0;32m     98\u001b[0m \u001b[39m        correct keyword.\u001b[39;00m\n\u001b[0;32m     99\u001b[0m \u001b[39m    \"\"\"\u001b[39;00m\n\u001b[1;32m--> 100\u001b[0m     check_consistent_length(y_true, y_pred)\n\u001b[0;32m    101\u001b[0m     y_true \u001b[39m=\u001b[39m check_array(y_true, ensure_2d\u001b[39m=\u001b[39m\u001b[39mFalse\u001b[39;00m, dtype\u001b[39m=\u001b[39mdtype)\n\u001b[0;32m    102\u001b[0m     y_pred \u001b[39m=\u001b[39m check_array(y_pred, ensure_2d\u001b[39m=\u001b[39m\u001b[39mFalse\u001b[39;00m, dtype\u001b[39m=\u001b[39mdtype)\n",
      "File \u001b[1;32mc:\\Users\\franh\\anaconda3\\lib\\site-packages\\sklearn\\utils\\validation.py:397\u001b[0m, in \u001b[0;36mcheck_consistent_length\u001b[1;34m(*arrays)\u001b[0m\n\u001b[0;32m    395\u001b[0m uniques \u001b[39m=\u001b[39m np\u001b[39m.\u001b[39munique(lengths)\n\u001b[0;32m    396\u001b[0m \u001b[39mif\u001b[39;00m \u001b[39mlen\u001b[39m(uniques) \u001b[39m>\u001b[39m \u001b[39m1\u001b[39m:\n\u001b[1;32m--> 397\u001b[0m     \u001b[39mraise\u001b[39;00m \u001b[39mValueError\u001b[39;00m(\n\u001b[0;32m    398\u001b[0m         \u001b[39m\"\u001b[39m\u001b[39mFound input variables with inconsistent numbers of samples: \u001b[39m\u001b[39m%r\u001b[39;00m\u001b[39m\"\u001b[39m\n\u001b[0;32m    399\u001b[0m         \u001b[39m%\u001b[39m [\u001b[39mint\u001b[39m(l) \u001b[39mfor\u001b[39;00m l \u001b[39min\u001b[39;00m lengths]\n\u001b[0;32m    400\u001b[0m     )\n",
      "\u001b[1;31mValueError\u001b[0m: Found input variables with inconsistent numbers of samples: [352288, 52659]"
     ]
    }
   ],
   "source": [
    "# Evaluate the model performance on the test set using the best parameters found\n",
    "best_model = grid_search.best_estimator_\n",
    "distances, indices = best_model.kneighbors(test_matrix, n_neighbors=20)\n",
    "y_pred = []\n",
    "for i in range(len(indices)):\n",
    "    jokes = indices[i]\n",
    "    ratings = train_matrix[jokes, :].toarray()[0]\n",
    "    y_pred.append(np.mean(ratings[ratings != 0]))\n",
    "mse = mean_squared_error(y_test, y_pred)\n",
    "print(\"Test set MSE:\", mse)"
   ]
  },
  {
   "cell_type": "markdown",
   "metadata": {},
   "source": [
    "Prueba con codigo de chatgpt para encontrar similitudes entre users, seguido de distancia y 3 peliculas "
   ]
  },
  {
   "cell_type": "code",
   "execution_count": 113,
   "metadata": {},
   "outputs": [
    {
     "name": "stdout",
     "output_type": "stream",
     "text": [
      "Nearest neighbors of user 135\n",
      "Neighbor 2 - UserId: 3053 - Distance: 0.4916632629173475 - Jokes: [\"How many feminists does it take to screw in a light bulb?\\nThat's not funny.\\n\"\n",
      " 'Q. Did you hear about the dyslexic devil worshiper? \\n\\nA. He sold his soul to Santa.\\n'\n",
      " 'They asked the Japanese visitor if they have elections in his\\ncountry.  \\n\"Every Morning\" he answers.\\n']\n",
      "Neighbor 3 - UserId: 28304 - Distance: 0.5108788972089806 - Jokes: [\"How many feminists does it take to screw in a light bulb?\\nThat's not funny.\\n\"\n",
      " 'Q. Did you hear about the dyslexic devil worshiper? \\n\\nA. He sold his soul to Santa.\\n'\n",
      " 'They asked the Japanese visitor if they have elections in his\\ncountry.  \\n\"Every Morning\" he answers.\\n']\n",
      "Neighbor 4 - UserId: 426 - Distance: 0.5287445488721079 - Jokes: [\"Q.\\tWhat's O. J. Simpson's Internet address? \\nA.\\tSlash, slash, backslash, slash, slash, escape.\\n\"\n",
      " \"How many feminists does it take to screw in a light bulb?\\nThat's not funny.\\n\"\n",
      " 'Q. Did you hear about the dyslexic devil worshiper? \\n\\nA. He sold his soul to Santa.\\n']\n",
      "Neighbor 5 - UserId: 421 - Distance: 0.5681635261031197 - Jokes: [\"Q.\\tWhat's O. J. Simpson's Internet address? \\nA.\\tSlash, slash, backslash, slash, slash, escape.\\n\"\n",
      " \"How many feminists does it take to screw in a light bulb?\\nThat's not funny.\\n\"\n",
      " 'Q. Did you hear about the dyslexic devil worshiper? \\n\\nA. He sold his soul to Santa.\\n']\n"
     ]
    }
   ],
   "source": [
    "# create a sparse matrix using userID as rows, movie_id as columns, and ratings as values\n",
    "sparse_matrix = csr_matrix((merged[\"rating\"], (merged[\"userId\"], merged[\"jokeId\"])))\n",
    "\n",
    "# create a kNN model using cosine similarity\n",
    "modelpt = NearestNeighbors(metric=\"cosine\", algorithm=\"brute\", n_neighbors=5)\n",
    "\n",
    "# fit the model to the sparse matrix\n",
    "modelpt.fit(sparse_matrix)\n",
    "\n",
    "# select a user ID for which to find the nearest neighbors\n",
    "query_user = 135\n",
    "\n",
    "# find the indices and distances to the 10 nearest neighbors of the query user\n",
    "distances, indices = modelpt.kneighbors(sparse_matrix[query_user], n_neighbors=5)\n",
    "\n",
    "# print the titles of the movies that the nearest neighbors rated\n",
    "print(\"Nearest neighbors of user\", query_user)\n",
    "for i in range(1, len(distances[0])): # The loop starts at 1 because the neighbor #1 is going to be the same user as selected in the query\n",
    "    neighbor_user = indices[0][i]\n",
    "    neighbor_distance = distances[0][i]\n",
    "    neighbor_movies = merged.loc[merged[\"userId\"] == neighbor_user][\"jokeText\"].values[:3] # limit to 3 movies as example \n",
    "    print(\"Neighbor\", i+1, \"- UserId:\", neighbor_user, \"- Distance:\", neighbor_distance, \"- Jokes:\", neighbor_movies)"
   ]
  },
  {
   "cell_type": "markdown",
   "metadata": {},
   "source": [
    "### SVD with Surprise pckg"
   ]
  },
  {
   "cell_type": "markdown",
   "metadata": {},
   "source": [
    " #### Performing SVD in a smaller dt"
   ]
  },
  {
   "cell_type": "code",
   "execution_count": 14,
   "metadata": {},
   "outputs": [],
   "source": [
    "merged['userId'] = merged['userId'].astype(int) \n",
    "merged['jokeId'] = merged['jokeId'].astype(int)\n",
    "merged['rating'] = merged['rating'].astype(float)  "
   ]
  },
  {
   "cell_type": "code",
   "execution_count": 132,
   "metadata": {},
   "outputs": [],
   "source": [
    "# Transforming df into a Surprise specific data structure\n",
    "reader = surprise.Reader(rating_scale=(1, 5))\n",
    "svd_data = surprise.Dataset.load_from_df(merged[['userId', 'jokeId', 'rating']], reader)"
   ]
  },
  {
   "cell_type": "code",
   "execution_count": 133,
   "metadata": {},
   "outputs": [
    {
     "name": "stdout",
     "output_type": "stream",
     "text": [
      "RMSE: 4.7843\n"
     ]
    },
    {
     "data": {
      "text/plain": [
       "4.784262081488439"
      ]
     },
     "execution_count": 133,
     "metadata": {},
     "output_type": "execute_result"
    }
   ],
   "source": [
    "from surprise.model_selection import train_test_split as split_surprise\n",
    "# test set is made of 25% of the ratings.\n",
    "trainset, testset = split_surprise(svd_data, test_size=0.25)\n",
    "# We'll use the famous SVD algorithm.\n",
    "algo = SVD()\n",
    "\n",
    "# Train the algorithm on the trainset, and predict ratings for the testset\n",
    "algo.fit(trainset)\n",
    "predictions = algo.test(testset)\n",
    "\n",
    "# Then compute RMSE\n",
    "accuracy.rmse(predictions)"
   ]
  },
  {
   "cell_type": "markdown",
   "metadata": {},
   "source": [
    "RMSE of 0.9169 is too high which menas that the model is not accurate."
   ]
  },
  {
   "cell_type": "markdown",
   "metadata": {},
   "source": [
    "### SVD Cross Validation"
   ]
  },
  {
   "cell_type": "code",
   "execution_count": 23,
   "metadata": {},
   "outputs": [
    {
     "name": "stdout",
     "output_type": "stream",
     "text": [
      "Evaluating RMSE, MAE of algorithm SVD on 5 split(s).\n",
      "\n",
      "                  Fold 1  Fold 2  Fold 3  Fold 4  Fold 5  Mean    Std     \n",
      "RMSE (testset)    4.7815  4.7805  4.7754  4.7850  4.7827  4.7810  0.0032  \n",
      "MAE (testset)     3.7451  3.7432  3.7364  3.7505  3.7487  3.7448  0.0049  \n",
      "Fit time          19.21   18.68   19.75   20.43   17.91   19.19   0.87    \n",
      "Test time         3.04    3.14    3.18    3.90    3.08    3.27    0.32    \n"
     ]
    },
    {
     "data": {
      "text/plain": [
       "{'test_rmse': array([4.78154473, 4.78045803, 4.77539661, 4.78499974, 4.78272823]),\n",
       " 'test_mae': array([3.74511646, 3.74321482, 3.73644876, 3.75053813, 3.74873793]),\n",
       " 'fit_time': (19.210875511169434,\n",
       "  18.680373430252075,\n",
       "  19.745484828948975,\n",
       "  20.432854175567627,\n",
       "  17.905160665512085),\n",
       " 'test_time': (3.0361342430114746,\n",
       "  3.142449378967285,\n",
       "  3.1804862022399902,\n",
       "  3.8995702266693115,\n",
       "  3.0834622383117676)}"
      ]
     },
     "execution_count": 23,
     "metadata": {},
     "output_type": "execute_result"
    }
   ],
   "source": [
    "# Run 5-fold cross-validation and print results on based on the extracted final dataset\n",
    "cross_validate(algo, svd_data, measures=[\"RMSE\", \"MAE\"], cv=5, verbose=True)"
   ]
  },
  {
   "cell_type": "markdown",
   "metadata": {},
   "source": [
    "### SVD (training the model on the whole dataset) "
   ]
  },
  {
   "cell_type": "code",
   "execution_count": 134,
   "metadata": {},
   "outputs": [
    {
     "data": {
      "text/plain": [
       "<surprise.prediction_algorithms.matrix_factorization.SVD at 0x1206400d990>"
      ]
     },
     "execution_count": 134,
     "metadata": {},
     "output_type": "execute_result"
    }
   ],
   "source": [
    "# Training the model\n",
    "svd_algo = surprise.SVD()\n",
    "trainset = svd_data.build_full_trainset()\n",
    "svd_algo.fit(trainset)"
   ]
  },
  {
   "cell_type": "code",
   "execution_count": 136,
   "metadata": {},
   "outputs": [
    {
     "name": "stdout",
     "output_type": "stream",
     "text": [
      "['If pro- is the opposite of con- then congress must be the opposite\\nof progress.\\n', 'A lady bought a new Lexus. It cost a bundle. Two days later, she brought it back, complaining that the radio was not working. \"Madam,\" said the sales manager, \"the audio system in this car is completely automatic. All you need to do is tell it what you want to listen to, and you will hear exactly that!\" She drove out, somewhat amazed and a little confused. She looked at the radio and said, \"Nelson.\" The radio responded, \"Ricky or Willie?\" She was astounded. If she wanted Beethoven, that\\'s what she got. If she wanted Nat King Cole, she got it. She was stopped at a traffic light enjoying \"On the Road Again\" when the light turned green and she pulled out. Suddenly an enormous sports utility vehicle coming from the street she was crossing sped toward her, obviously not paying attention to the light. She swerved and narrowly missed a collision. \"Idiot!\" she yelled and, from the radio, \"Ladies and gentlemen, the President of the United States.\"', 'Judy was having trouble with her computer, so she called Tony, the computer guy, over to her desk. Tony clicked a couple buttons and solved the problem. As he was walking away, Judy called after him, \"So, what was wrong?\" And he replied, \"It was an ID Ten T Error.\" A puzzled expression ran riot over Judy\\'s face. \"An ID Ten T Error? What\\'s that...in case I need to fix it again?\" He gave her a grin...\"Haven\\'t you ever heard of an ID Ten T Error before?\" \"No,\" replied Judy. \"Write it down,\" he said, \"and I think you\\'ll figure it out.\" (She wrote...) I D 1 0 T', 'In a Veteran\\'s Day speech, President Bush vowed, \"We will finish the mission. Period.\" Afterwards, he was advised that he doesn\\'t have to read the punctuation marks.', 'A drunk staggers into a Catholic Church, enters a confessional booth, sits down, but says nothing. The Priest coughs a few times to get his attention but the drunk just sits there. Finally, the Priest pounds three times on the wall. The drunk mumbles, \"Ain\\'t no use knockin, there\\'s no paper on this side either.\"']\n"
     ]
    }
   ],
   "source": [
    "# Recommending 5 movies to x user\n",
    "x = 30878 # userID number\n",
    "k = 5 # Number of movies that are going to be recommended\n",
    "\n",
    "# recommend top-k movies for a given user\n",
    "user_items = trainset.ur[trainset.to_inner_uid(x)]\n",
    "not_watched = [item_id for item_id in trainset.all_items() if item_id not in user_items]\n",
    "predictions = [svd_algo.predict(x, item_id) for item_id in not_watched]\n",
    "top_k_predictions = sorted(predictions, key=lambda x: x.est, reverse=True)[:k]\n",
    "recommended_titles = [merged[merged['jokeId'] == pred.iid]['jokeText'].iloc[0] for pred in top_k_predictions]\n",
    "\n",
    "# print the recommended movie titles\n",
    "print(recommended_titles)"
   ]
  },
  {
   "cell_type": "markdown",
   "metadata": {},
   "source": [
    "#### Tune algorithm parameters with GridSearchCV"
   ]
  },
  {
   "cell_type": "markdown",
   "metadata": {},
   "source": [
    "Evaluating the average RMSE and MAE over a 3-fold cross-validation procedure"
   ]
  },
  {
   "cell_type": "code",
   "execution_count": 138,
   "metadata": {},
   "outputs": [
    {
     "ename": "TypeError",
     "evalue": "GridSearchCV.__init__() got an unexpected keyword argument 'measures'",
     "output_type": "error",
     "traceback": [
      "\u001b[1;31m---------------------------------------------------------------------------\u001b[0m",
      "\u001b[1;31mTypeError\u001b[0m                                 Traceback (most recent call last)",
      "Cell \u001b[1;32mIn[138], line 2\u001b[0m\n\u001b[0;32m      1\u001b[0m param_grid \u001b[39m=\u001b[39m {\u001b[39m\"\u001b[39m\u001b[39mn_epochs\u001b[39m\u001b[39m\"\u001b[39m: [\u001b[39m5\u001b[39m, \u001b[39m10\u001b[39m], \u001b[39m\"\u001b[39m\u001b[39mlr_all\u001b[39m\u001b[39m\"\u001b[39m: [\u001b[39m0.002\u001b[39m, \u001b[39m0.005\u001b[39m], \u001b[39m\"\u001b[39m\u001b[39mreg_all\u001b[39m\u001b[39m\"\u001b[39m: [\u001b[39m0.4\u001b[39m, \u001b[39m0.6\u001b[39m]}\n\u001b[1;32m----> 2\u001b[0m gs \u001b[39m=\u001b[39m GridSearchCV(SVD, param_grid, measures\u001b[39m=\u001b[39;49m[\u001b[39m\"\u001b[39;49m\u001b[39mrmse\u001b[39;49m\u001b[39m\"\u001b[39;49m, \u001b[39m\"\u001b[39;49m\u001b[39mmae\u001b[39;49m\u001b[39m\"\u001b[39;49m], cv\u001b[39m=\u001b[39;49m\u001b[39m3\u001b[39;49m)\n\u001b[0;32m      4\u001b[0m gs\u001b[39m.\u001b[39mfit(svd_data)\n\u001b[0;32m      6\u001b[0m \u001b[39m# best RMSE score\u001b[39;00m\n",
      "\u001b[1;31mTypeError\u001b[0m: GridSearchCV.__init__() got an unexpected keyword argument 'measures'"
     ]
    }
   ],
   "source": [
    "param_grid = {\"n_epochs\": [5, 10], \"lr_all\": [0.002, 0.005], \"reg_all\": [0.4, 0.6]}\n",
    "gs = GridSearchCV(SVD, param_grid, measures=[\"rmse\", \"mae\"], cv=3)\n",
    "\n",
    "gs.fit(svd_data)\n",
    "\n",
    "# best RMSE score\n",
    "print(gs.best_score[\"rmse\"])\n",
    "\n",
    "# combination of parameters that gave the best RMSE score\n",
    "print(gs.best_params[\"rmse\"])"
   ]
  },
  {
   "cell_type": "code",
   "execution_count": null,
   "metadata": {},
   "outputs": [
    {
     "data": {
      "text/plain": [
       "<surprise.prediction_algorithms.matrix_factorization.SVD at 0x25312e46680>"
      ]
     },
     "metadata": {},
     "output_type": "display_data"
    }
   ],
   "source": [
    "# We can now use the algorithm that yields the best rmse:\n",
    "best_algo = gs.best_estimator[\"rmse\"]\n",
    "best_algo.fit(svd_data.build_full_trainset())"
   ]
  },
  {
   "cell_type": "markdown",
   "metadata": {},
   "source": [
    "### Using best model for recommendations"
   ]
  },
  {
   "cell_type": "code",
   "execution_count": null,
   "metadata": {},
   "outputs": [
    {
     "name": "stdout",
     "output_type": "stream",
     "text": [
      "['Alias: Season 1', 'Inu-Yasha: The Movie 3: Swords of an Honorable Ruler', 'Six Feet Under: Season 4', 'Harakiri', 'As Time Goes By: Series 8']\n"
     ]
    }
   ],
   "source": [
    "# Recommending 5 movies to x user\n",
    "x = 30878 # userID number\n",
    "k = 5 # Number of movies that are going to be recommended\n",
    "\n",
    "# recommend top-k movies for a given user\n",
    "user_items = trainset.ur[trainset.to_inner_uid(x)]\n",
    "not_watched = [item_id for item_id in trainset.all_items() if item_id not in user_items]\n",
    "predictions = [best_algo.predict(x, item_id) for item_id in not_watched]\n",
    "top_k_predictions = sorted(predictions, key=lambda x: x.est, reverse=True)[:k]\n",
    "recommended_titles = [final_df[final_df['movie_id'] == pred.iid]['title'].iloc[0] for pred in top_k_predictions]\n",
    "\n",
    "# print the recommended movie titles\n",
    "print(recommended_titles)"
   ]
  }
 ],
 "metadata": {
  "kernelspec": {
   "display_name": "base",
   "language": "python",
   "name": "python3"
  },
  "language_info": {
   "codemirror_mode": {
    "name": "ipython",
    "version": 3
   },
   "file_extension": ".py",
   "mimetype": "text/x-python",
   "name": "python",
   "nbconvert_exporter": "python",
   "pygments_lexer": "ipython3",
   "version": "3.10.9"
  },
  "orig_nbformat": 4
 },
 "nbformat": 4,
 "nbformat_minor": 2
}
