{
 "cells": [
  {
   "attachments": {},
   "cell_type": "markdown",
   "metadata": {},
   "source": [
    "# **<span style='color: green'>|</span>Systems Development for Marketing </b>**\n"
   ]
  },
  {
   "cell_type": "markdown",
   "metadata": {},
   "source": [
    "- Francisco Hermida \n",
    "- Student ID number: 500895165"
   ]
  },
  {
   "attachments": {},
   "cell_type": "markdown",
   "metadata": {},
   "source": [
    "# **<span style='color: green'>|</span>Netflix Prize Dataset </b>**"
   ]
  },
  {
   "attachments": {},
   "cell_type": "markdown",
   "metadata": {},
   "source": [
    "## <b>1<span style='color:green'>|</span> Introduction\n",
    "\n",
    "### 1.1 *Research question* :\n",
    "- How does the performance of different recommendation systems, such as a KNN collaborative filtering and SVD, compare in predicting user ratings in the Netflix Prize dataset?\n",
    "\n",
    "#### Sub Research questions:\n",
    "\n",
    "1.  What is the accuracy of KNN collaborative filtering and SVD in predicting user ratings in the Netflix Prize dataset?\n",
    "2.  How do the KNN collaborative filtering and SVD recommendation systems differ in their approach to predicting user ratings?\n",
    "3.  How does the size of the dataset affect the performance of KNN collaborative filtering and SVD recommendation systems in predicting user ratings?\n",
    "4.  Can the performance of KNN collaborative filtering and SVD recommendation systems be improved by combining them or using hybrid approaches? "
   ]
  },
  {
   "cell_type": "markdown",
   "metadata": {},
   "source": [
    "###  1.2. *Importing libraries* "
   ]
  },
  {
   "cell_type": "code",
   "execution_count": 127,
   "metadata": {},
   "outputs": [],
   "source": [
    "import pandas as pd\n",
    "import numpy as np\n",
    "import seaborn as sns\n",
    "import matplotlib.pyplot as plt\n",
    "from io import StringIO\n",
    "from sklearn.model_selection import train_test_split as split_sk\n",
    "import surprise\n",
    "from surprise import Dataset, SVD\n",
    "from surprise.model_selection import cross_validate\n",
    "from surprise.model_selection import train_test_split as split_sur\n",
    "from surprise import accuracy, Dataset, SVD\n",
    "from surprise.model_selection import GridSearchCV\n",
    "from scipy.sparse import csr_matrix\n",
    "import os\n",
    "from sklearn.neighbors import NearestNeighbors\n",
    "from sklearn.metrics import mean_squared_error\n",
    "import random\n",
    "import random "
   ]
  },
  {
   "cell_type": "markdown",
   "metadata": {},
   "source": [
    "## <b>2<span style='color:green'>|</span> Data Preprocessing"
   ]
  },
  {
   "cell_type": "code",
   "execution_count": 4,
   "metadata": {},
   "outputs": [
    {
     "name": "stdout",
     "output_type": "stream",
     "text": [
      "    userID  Rating date_of_rat  movie_id\n",
      "0       1:     NaN         NaN         1\n",
      "1  1488844     3.0  2005-09-06         1\n",
      "2   822109     5.0  2005-05-13         1\n",
      "3   885013     4.0  2005-10-19         1\n",
      "4    30878     4.0  2005-12-26         1\n"
     ]
    }
   ],
   "source": [
    "# Importing all the files from the folder in the .rar file\n",
    "Train_data = []\n",
    "\n",
    "directory_path = r\"C:\\Users\\franh\\OneDrive\\Escritorio\\Traspaso\\Traspaso\\MASTER\\Recys\\training_set\"\n",
    "# Initialize a counter to keep track of how many files we have read in\n",
    "counter = 0\n",
    "# Initialize an empty list to store each dataframe from each file\n",
    "df_list = []\n",
    "# Loop through each file in the directory\n",
    "for file_name in os.listdir(directory_path):\n",
    "    # Check that the file is a text file and that we have not read in 1000 files yet\n",
    "    if file_name.endswith('.txt') and counter < 100:\n",
    "        # Read in the file as a dataframe\n",
    "        df = pd.read_csv(os.path.join(directory_path, file_name), header=None, names=['userID', 'Rating', 'date_of_rat'])\n",
    "        # Get the Movie ID from the file name\n",
    "        movie_id = int(file_name.split('_')[1].split('.')[0])\n",
    "        # Add the Movie ID as a column to the dataframe\n",
    "        df['movie_id'] = movie_id\n",
    "        # Add the dataframe to the list\n",
    "        df_list.append(df)\n",
    "        counter += 1\n",
    "    else:\n",
    "        break\n",
    "# Concatenate all the dataframes in the list into a single dataframe\n",
    "merged_df = pd.concat(df_list, axis=0, ignore_index=True)\n",
    "\n",
    "# Print the resulting dataframe\n",
    "print(merged_df.head())"
   ]
  },
  {
   "cell_type": "code",
   "execution_count": 5,
   "metadata": {},
   "outputs": [],
   "source": [
    "# Dropping Nan values and reseting index from df\n",
    "merged_df.dropna(inplace=True)\n",
    "merged_df.reset_index(inplace=True)"
   ]
  },
  {
   "cell_type": "code",
   "execution_count": 6,
   "metadata": {},
   "outputs": [
    {
     "data": {
      "text/html": [
       "<div>\n",
       "<style scoped>\n",
       "    .dataframe tbody tr th:only-of-type {\n",
       "        vertical-align: middle;\n",
       "    }\n",
       "\n",
       "    .dataframe tbody tr th {\n",
       "        vertical-align: top;\n",
       "    }\n",
       "\n",
       "    .dataframe thead th {\n",
       "        text-align: right;\n",
       "    }\n",
       "</style>\n",
       "<table border=\"1\" class=\"dataframe\">\n",
       "  <thead>\n",
       "    <tr style=\"text-align: right;\">\n",
       "      <th></th>\n",
       "      <th>index</th>\n",
       "      <th>userID</th>\n",
       "      <th>Rating</th>\n",
       "      <th>date_of_rat</th>\n",
       "      <th>movie_id</th>\n",
       "    </tr>\n",
       "  </thead>\n",
       "  <tbody>\n",
       "    <tr>\n",
       "      <th>0</th>\n",
       "      <td>1</td>\n",
       "      <td>1488844</td>\n",
       "      <td>3.0</td>\n",
       "      <td>2005-09-06</td>\n",
       "      <td>1</td>\n",
       "    </tr>\n",
       "    <tr>\n",
       "      <th>1</th>\n",
       "      <td>2</td>\n",
       "      <td>822109</td>\n",
       "      <td>5.0</td>\n",
       "      <td>2005-05-13</td>\n",
       "      <td>1</td>\n",
       "    </tr>\n",
       "    <tr>\n",
       "      <th>2</th>\n",
       "      <td>3</td>\n",
       "      <td>885013</td>\n",
       "      <td>4.0</td>\n",
       "      <td>2005-10-19</td>\n",
       "      <td>1</td>\n",
       "    </tr>\n",
       "    <tr>\n",
       "      <th>3</th>\n",
       "      <td>4</td>\n",
       "      <td>30878</td>\n",
       "      <td>4.0</td>\n",
       "      <td>2005-12-26</td>\n",
       "      <td>1</td>\n",
       "    </tr>\n",
       "    <tr>\n",
       "      <th>4</th>\n",
       "      <td>5</td>\n",
       "      <td>823519</td>\n",
       "      <td>3.0</td>\n",
       "      <td>2004-05-03</td>\n",
       "      <td>1</td>\n",
       "    </tr>\n",
       "  </tbody>\n",
       "</table>\n",
       "</div>"
      ],
      "text/plain": [
       "   index   userID  Rating date_of_rat  movie_id\n",
       "0      1  1488844     3.0  2005-09-06         1\n",
       "1      2   822109     5.0  2005-05-13         1\n",
       "2      3   885013     4.0  2005-10-19         1\n",
       "3      4    30878     4.0  2005-12-26         1\n",
       "4      5   823519     3.0  2004-05-03         1"
      ]
     },
     "execution_count": 6,
     "metadata": {},
     "output_type": "execute_result"
    }
   ],
   "source": [
    "# Checkin the head of the df\n",
    "merged_df.head()"
   ]
  },
  {
   "cell_type": "code",
   "execution_count": 7,
   "metadata": {},
   "outputs": [
    {
     "data": {
      "text/plain": [
       "index          352771\n",
       "userID         191668\n",
       "Rating              5\n",
       "date_of_rat      2165\n",
       "movie_id          100\n",
       "dtype: int64"
      ]
     },
     "execution_count": 7,
     "metadata": {},
     "output_type": "execute_result"
    }
   ],
   "source": [
    "# Checking unique values\n",
    "merged_df.nunique()"
   ]
  },
  {
   "cell_type": "code",
   "execution_count": 8,
   "metadata": {},
   "outputs": [
    {
     "name": "stdout",
     "output_type": "stream",
     "text": [
      "352771\n"
     ]
    }
   ],
   "source": [
    "# Checking # of rows\n",
    "print(len(merged_df.index))"
   ]
  },
  {
   "cell_type": "code",
   "execution_count": 10,
   "metadata": {},
   "outputs": [
    {
     "name": "stdout",
     "output_type": "stream",
     "text": [
      "   movie_id  release_year                         title\n",
      "0         1        2003.0               Dinosaur Planet\n",
      "1         2        2004.0    Isle of Man TT 2004 Review\n",
      "2         3        1997.0                     Character\n",
      "3         4        1994.0  Paula Abdul's Get Up & Dance\n",
      "4         5        2004.0      The Rise and Fall of ECW\n"
     ]
    }
   ],
   "source": [
    "# define column names\n",
    "cols = [\"movie_id\", \"release_year\", \"title\"]\n",
    "\n",
    "# read file with comma separator for first two columns only\n",
    "movies_df = pd.read_csv(\"movie_titles.txt\", sep=\",\", names=cols, usecols=[0,1,2], engine='python', encoding='latin1')\n",
    "\n",
    "# merge title columns back together\n",
    "movies_df[\"title\"] = movies_df.iloc[:,2].str.cat(movies_df.iloc[:,3:], sep=\",\")\n",
    "\n",
    "# display first few rows of the dataframe\n",
    "print(movies_df.head())"
   ]
  },
  {
   "cell_type": "code",
   "execution_count": 11,
   "metadata": {},
   "outputs": [],
   "source": [
    "# Dropping Nan values and reseting index from df\n",
    "movies_df.dropna(subset=['release_year'], inplace=True)\n",
    "# Modifying release_year column to int\n",
    "movies_df['release_year'] = movies_df['release_year'].astype('int')"
   ]
  },
  {
   "cell_type": "code",
   "execution_count": 12,
   "metadata": {},
   "outputs": [
    {
     "data": {
      "text/html": [
       "<div>\n",
       "<style scoped>\n",
       "    .dataframe tbody tr th:only-of-type {\n",
       "        vertical-align: middle;\n",
       "    }\n",
       "\n",
       "    .dataframe tbody tr th {\n",
       "        vertical-align: top;\n",
       "    }\n",
       "\n",
       "    .dataframe thead th {\n",
       "        text-align: right;\n",
       "    }\n",
       "</style>\n",
       "<table border=\"1\" class=\"dataframe\">\n",
       "  <thead>\n",
       "    <tr style=\"text-align: right;\">\n",
       "      <th></th>\n",
       "      <th>index</th>\n",
       "      <th>userID</th>\n",
       "      <th>Rating</th>\n",
       "      <th>date_of_rat</th>\n",
       "      <th>movie_id</th>\n",
       "      <th>release_year</th>\n",
       "      <th>title</th>\n",
       "    </tr>\n",
       "  </thead>\n",
       "  <tbody>\n",
       "    <tr>\n",
       "      <th>352766</th>\n",
       "      <td>352866</td>\n",
       "      <td>2192562</td>\n",
       "      <td>1.0</td>\n",
       "      <td>2004-03-29</td>\n",
       "      <td>100</td>\n",
       "      <td>1993</td>\n",
       "      <td>Sam the Iron Bridge</td>\n",
       "    </tr>\n",
       "    <tr>\n",
       "      <th>352767</th>\n",
       "      <td>352867</td>\n",
       "      <td>443447</td>\n",
       "      <td>4.0</td>\n",
       "      <td>2002-12-05</td>\n",
       "      <td>100</td>\n",
       "      <td>1993</td>\n",
       "      <td>Sam the Iron Bridge</td>\n",
       "    </tr>\n",
       "    <tr>\n",
       "      <th>352768</th>\n",
       "      <td>352868</td>\n",
       "      <td>935149</td>\n",
       "      <td>3.0</td>\n",
       "      <td>2003-07-14</td>\n",
       "      <td>100</td>\n",
       "      <td>1993</td>\n",
       "      <td>Sam the Iron Bridge</td>\n",
       "    </tr>\n",
       "    <tr>\n",
       "      <th>352769</th>\n",
       "      <td>352869</td>\n",
       "      <td>428688</td>\n",
       "      <td>2.0</td>\n",
       "      <td>2002-04-18</td>\n",
       "      <td>100</td>\n",
       "      <td>1993</td>\n",
       "      <td>Sam the Iron Bridge</td>\n",
       "    </tr>\n",
       "    <tr>\n",
       "      <th>352770</th>\n",
       "      <td>352870</td>\n",
       "      <td>2634967</td>\n",
       "      <td>1.0</td>\n",
       "      <td>2004-04-10</td>\n",
       "      <td>100</td>\n",
       "      <td>1993</td>\n",
       "      <td>Sam the Iron Bridge</td>\n",
       "    </tr>\n",
       "  </tbody>\n",
       "</table>\n",
       "</div>"
      ],
      "text/plain": [
       "         index   userID  Rating date_of_rat  movie_id  release_year  \\\n",
       "352766  352866  2192562     1.0  2004-03-29       100          1993   \n",
       "352767  352867   443447     4.0  2002-12-05       100          1993   \n",
       "352768  352868   935149     3.0  2003-07-14       100          1993   \n",
       "352769  352869   428688     2.0  2002-04-18       100          1993   \n",
       "352770  352870  2634967     1.0  2004-04-10       100          1993   \n",
       "\n",
       "                      title  \n",
       "352766  Sam the Iron Bridge  \n",
       "352767  Sam the Iron Bridge  \n",
       "352768  Sam the Iron Bridge  \n",
       "352769  Sam the Iron Bridge  \n",
       "352770  Sam the Iron Bridge  "
      ]
     },
     "execution_count": 12,
     "metadata": {},
     "output_type": "execute_result"
    }
   ],
   "source": [
    "# Merging 2 df\n",
    "merged_p = pd.merge(merged_df, movies_df, on='movie_id', validate='many_to_one')\n",
    "merged_p.tail()"
   ]
  },
  {
   "cell_type": "code",
   "execution_count": 14,
   "metadata": {},
   "outputs": [],
   "source": [
    "# Saving final df\n",
    "merged_p.to_csv('halfdata.csv')"
   ]
  },
  {
   "cell_type": "code",
   "execution_count": 144,
   "metadata": {},
   "outputs": [],
   "source": [
    "# Reading final df dataframe from source\n",
    "final_df = pd.read_csv('halfdata.csv', usecols = ['movie_id', 'userID', 'title', 'Rating'])"
   ]
  },
  {
   "cell_type": "code",
   "execution_count": 269,
   "metadata": {},
   "outputs": [],
   "source": [
    "# Adjusting movie_id column to match the index\n",
    "final_df['movie_id'] = final_df['movie_id'] - 1"
   ]
  },
  {
   "cell_type": "markdown",
   "metadata": {},
   "source": [
    "## <b>3<span style='color:green'>|</span> Exploratory Data Analysis"
   ]
  },
  {
   "cell_type": "code",
   "execution_count": 258,
   "metadata": {},
   "outputs": [],
   "source": [
    "# Calculate the average rating for each joke\n",
    "avg_ratings = final_df.groupby('movie_id')['Rating'].mean()\n",
    "\n",
    "# Calculate the number of ratings for each joke\n",
    "num_ratings = final_df.groupby('movie_id')['Rating'].count()\n",
    "\n",
    "# Combine the two series into a new dataframe\n",
    "plot_data = pd.DataFrame({'avg_rating': avg_ratings, 'num_ratings': num_ratings})"
   ]
  },
  {
   "cell_type": "code",
   "execution_count": 259,
   "metadata": {},
   "outputs": [
    {
     "name": "stderr",
     "output_type": "stream",
     "text": [
      "C:\\Users\\franh\\AppData\\Local\\Temp\\ipykernel_17856\\2628795594.py:4: FutureWarning: The default value of numeric_only in DataFrame.corr is deprecated. In a future version, it will default to False. Select only valid columns or specify the value of numeric_only to silence this warning.\n",
      "  sns.heatmap(final_df.corr(), annot = True, ax= axes[0,1]) # Checking variables correlation\n"
     ]
    },
    {
     "data": {
      "image/png": "[encoded data removed]",
      "text/plain": [
       "<Figure size 2000x1300 with 5 Axes>"
      ]
     },
     "metadata": {},
     "output_type": "display_data"
    }
   ],
   "source": [
    "# Creating a frame to analyze the data and visualize it\n",
    "fig, axes = plt.subplots(nrows=2, ncols=2, figsize = ((20,13)))\n",
    "sns.countplot(x=final_df['Rating'] , ax= axes[0,0]) # Rating values distribution\n",
    "sns.heatmap(final_df.corr(), annot = True, ax= axes[0,1]) # Checking variables correlation\n",
    "sns.scatterplot(data=plot_data, x='num_ratings', y='avg_rating', ax= axes[1,0])\n",
    "sns.histplot(plot_data['avg_rating'], ax= axes[1,1])\n",
    "plt.show()"
   ]
  },
  {
   "attachments": {},
   "cell_type": "markdown",
   "metadata": {},
   "source": [
    "- From the countplot (axes[0]) we can see that the distribution of ratings is skewed towards the higher ratings. This is expected as people are more likely to rate a movie if they enjoyed it. \n",
    "- From the heatmap (axes[0:1]) we can see that the ratings are not correlated with each other. This is expected as the ratings are independent of each other.\n",
    "- From the scatterplot (axes[1:0]) we can see that the ratings are not correlated with each other, this confirms the heatmap previously analized. Also we can check the presence of outliers in the dataset above the 20000 numbers of ratings."
   ]
  },
  {
   "cell_type": "markdown",
   "metadata": {},
   "source": [
    "## <b>4<span style='color:green'>|</span>  KNN data preparation and modeling"
   ]
  },
  {
   "cell_type": "code",
   "execution_count": 42,
   "metadata": {},
   "outputs": [
    {
     "name": "stdout",
     "output_type": "stream",
     "text": [
      "        movie_id\n",
      "userID          \n",
      "1333         157\n",
      "3321         231\n",
      "3998         117\n",
      "4597         107\n",
      "5980         137\n"
     ]
    }
   ],
   "source": [
    "# Look for the users who reviewed more than 100 movies\n",
    "usercount = final_df[[\"movie_id\",\"userID\"]].groupby(\"userID\").count()\n",
    "usercount = usercount[usercount[\"movie_id\"] >= 100]\n",
    "print(usercount.head())"
   ]
  },
  {
   "cell_type": "code",
   "execution_count": 43,
   "metadata": {},
   "outputs": [
    {
     "name": "stdout",
     "output_type": "stream",
     "text": [
      "          userID\n",
      "movie_id        \n",
      "1            547\n",
      "2            145\n",
      "3           2012\n",
      "4            142\n",
      "5           1140\n"
     ]
    }
   ],
   "source": [
    "# Look for the movies who were rated by more than 100 users\n",
    "ratecount = final_df[[\"movie_id\",\"userID\"]].groupby(\"movie_id\").count()\n",
    "ratecount = ratecount[ratecount[\"userID\"] >= 100]\n",
    "print(ratecount.head())"
   ]
  },
  {
   "cell_type": "code",
   "execution_count": 44,
   "metadata": {},
   "outputs": [
    {
     "data": {
      "text/html": [
       "<div>\n",
       "<style scoped>\n",
       "    .dataframe tbody tr th:only-of-type {\n",
       "        vertical-align: middle;\n",
       "    }\n",
       "\n",
       "    .dataframe tbody tr th {\n",
       "        vertical-align: top;\n",
       "    }\n",
       "\n",
       "    .dataframe thead th {\n",
       "        text-align: right;\n",
       "    }\n",
       "</style>\n",
       "<table border=\"1\" class=\"dataframe\">\n",
       "  <thead>\n",
       "    <tr style=\"text-align: right;\">\n",
       "      <th></th>\n",
       "      <th>userID</th>\n",
       "      <th>Rating</th>\n",
       "      <th>movie_id</th>\n",
       "      <th>title</th>\n",
       "    </tr>\n",
       "  </thead>\n",
       "  <tbody>\n",
       "    <tr>\n",
       "      <th>0</th>\n",
       "      <td>1488844</td>\n",
       "      <td>3.0</td>\n",
       "      <td>1</td>\n",
       "      <td>Dinosaur Planet</td>\n",
       "    </tr>\n",
       "    <tr>\n",
       "      <th>24</th>\n",
       "      <td>1181550</td>\n",
       "      <td>3.0</td>\n",
       "      <td>1</td>\n",
       "      <td>Dinosaur Planet</td>\n",
       "    </tr>\n",
       "    <tr>\n",
       "      <th>25</th>\n",
       "      <td>1227322</td>\n",
       "      <td>4.0</td>\n",
       "      <td>1</td>\n",
       "      <td>Dinosaur Planet</td>\n",
       "    </tr>\n",
       "    <tr>\n",
       "      <th>31</th>\n",
       "      <td>786312</td>\n",
       "      <td>3.0</td>\n",
       "      <td>1</td>\n",
       "      <td>Dinosaur Planet</td>\n",
       "    </tr>\n",
       "    <tr>\n",
       "      <th>36</th>\n",
       "      <td>525356</td>\n",
       "      <td>2.0</td>\n",
       "      <td>1</td>\n",
       "      <td>Dinosaur Planet</td>\n",
       "    </tr>\n",
       "  </tbody>\n",
       "</table>\n",
       "</div>"
      ],
      "text/plain": [
       "     userID  Rating  movie_id            title\n",
       "0   1488844     3.0         1  Dinosaur Planet\n",
       "24  1181550     3.0         1  Dinosaur Planet\n",
       "25  1227322     4.0         1  Dinosaur Planet\n",
       "31   786312     3.0         1  Dinosaur Planet\n",
       "36   525356     2.0         1  Dinosaur Planet"
      ]
     },
     "execution_count": 44,
     "metadata": {},
     "output_type": "execute_result"
    }
   ],
   "source": [
    "# Keep only the most(count of rates) movies and active users\n",
    "final_df = final_df[final_df[\"userID\"].isin(usercount.index) & final_df[\"movie_id\"].isin(ratecount.index)]\n",
    "final_df.head()"
   ]
  },
  {
   "cell_type": "code",
   "execution_count": 87,
   "metadata": {},
   "outputs": [
    {
     "data": {
      "text/plain": [
       "userID      0\n",
       "Rating      0\n",
       "movie_id    0\n",
       "title       0\n",
       "dtype: int64"
      ]
     },
     "execution_count": 87,
     "metadata": {},
     "output_type": "execute_result"
    }
   ],
   "source": [
    "#checking for missing values\n",
    "final_df.isnull().sum()"
   ]
  },
  {
   "cell_type": "code",
   "execution_count": 146,
   "metadata": {},
   "outputs": [],
   "source": [
    "# Modify rating column to int\n",
    "final_df['Rating'] = final_df['Rating'].astype('int')"
   ]
  },
  {
   "cell_type": "code",
   "execution_count": 147,
   "metadata": {},
   "outputs": [
    {
     "name": "stdout",
     "output_type": "stream",
     "text": [
      "userID       int64\n",
      "Rating       int32\n",
      "movie_id     int64\n",
      "title       object\n",
      "dtype: object\n"
     ]
    }
   ],
   "source": [
    "# Checking dtypes\n",
    "print(final_df.dtypes)"
   ]
  },
  {
   "cell_type": "code",
   "execution_count": 270,
   "metadata": {},
   "outputs": [],
   "source": [
    "# Split data into 80% training set and 20% test set\n",
    "m_train, m_test = split_sk(final_df, test_size=0.2, random_state=42)\n",
    "# Split training data into 80% training set and 20% validation set\n",
    "m_train, m_val = split_sk(m_train, test_size=0.2, random_state=42)"
   ]
  },
  {
   "cell_type": "code",
   "execution_count": 271,
   "metadata": {},
   "outputs": [],
   "source": [
    "# Create sparse matrix for training set\n",
    "m_train_matrix = m_train.pivot(values='Rating', index='userID', columns='movie_id').fillna(0)\n",
    "m_train_matrix = csr_matrix(m_train_matrix.values)\n",
    "# Create sparse matrix for validation set\n",
    "m_val_matrix = m_val.pivot(values='Rating', index='userID', columns='movie_id').fillna(0)\n",
    "m_val_matrix = csr_matrix(m_val_matrix.values)\n",
    "# Create sparse matrix for test set\n",
    "m_test_matrix = m_test.pivot(values='Rating', index='userID', columns='movie_id').fillna(0)\n",
    "m_test_matrix = csr_matrix(m_test_matrix.values)"
   ]
  },
  {
   "cell_type": "code",
   "execution_count": 236,
   "metadata": {},
   "outputs": [
    {
     "data": {
      "text/html": [
       "<style>#sk-container-id-8 {color: black;background-color: white;}#sk-container-id-8 pre{padding: 0;}#sk-container-id-8 div.sk-toggleable {background-color: white;}#sk-container-id-8 label.sk-toggleable__label {cursor: pointer;display: block;width: 100%;margin-bottom: 0;padding: 0.3em;box-sizing: border-box;text-align: center;}#sk-container-id-8 label.sk-toggleable__label-arrow:before {content: \"▸\";float: left;margin-right: 0.25em;color: #696969;}#sk-container-id-8 label.sk-toggleable__label-arrow:hover:before {color: black;}#sk-container-id-8 div.sk-estimator:hover label.sk-toggleable__label-arrow:before {color: black;}#sk-container-id-8 div.sk-toggleable__content {max-height: 0;max-width: 0;overflow: hidden;text-align: left;background-color: #f0f8ff;}#sk-container-id-8 div.sk-toggleable__content pre {margin: 0.2em;color: black;border-radius: 0.25em;background-color: #f0f8ff;}#sk-container-id-8 input.sk-toggleable__control:checked~div.sk-toggleable__content {max-height: 200px;max-width: 100%;overflow: auto;}#sk-container-id-8 input.sk-toggleable__control:checked~label.sk-toggleable__label-arrow:before {content: \"▾\";}#sk-container-id-8 div.sk-estimator input.sk-toggleable__control:checked~label.sk-toggleable__label {background-color: #d4ebff;}#sk-container-id-8 div.sk-label input.sk-toggleable__control:checked~label.sk-toggleable__label {background-color: #d4ebff;}#sk-container-id-8 input.sk-hidden--visually {border: 0;clip: rect(1px 1px 1px 1px);clip: rect(1px, 1px, 1px, 1px);height: 1px;margin: -1px;overflow: hidden;padding: 0;position: absolute;width: 1px;}#sk-container-id-8 div.sk-estimator {font-family: monospace;background-color: #f0f8ff;border: 1px dotted black;border-radius: 0.25em;box-sizing: border-box;margin-bottom: 0.5em;}#sk-container-id-8 div.sk-estimator:hover {background-color: #d4ebff;}#sk-container-id-8 div.sk-parallel-item::after {content: \"\";width: 100%;border-bottom: 1px solid gray;flex-grow: 1;}#sk-container-id-8 div.sk-label:hover label.sk-toggleable__label {background-color: #d4ebff;}#sk-container-id-8 div.sk-serial::before {content: \"\";position: absolute;border-left: 1px solid gray;box-sizing: border-box;top: 0;bottom: 0;left: 50%;z-index: 0;}#sk-container-id-8 div.sk-serial {display: flex;flex-direction: column;align-items: center;background-color: white;padding-right: 0.2em;padding-left: 0.2em;position: relative;}#sk-container-id-8 div.sk-item {position: relative;z-index: 1;}#sk-container-id-8 div.sk-parallel {display: flex;align-items: stretch;justify-content: center;background-color: white;position: relative;}#sk-container-id-8 div.sk-item::before, #sk-container-id-8 div.sk-parallel-item::before {content: \"\";position: absolute;border-left: 1px solid gray;box-sizing: border-box;top: 0;bottom: 0;left: 50%;z-index: -1;}#sk-container-id-8 div.sk-parallel-item {display: flex;flex-direction: column;z-index: 1;position: relative;background-color: white;}#sk-container-id-8 div.sk-parallel-item:first-child::after {align-self: flex-end;width: 50%;}#sk-container-id-8 div.sk-parallel-item:last-child::after {align-self: flex-start;width: 50%;}#sk-container-id-8 div.sk-parallel-item:only-child::after {width: 0;}#sk-container-id-8 div.sk-dashed-wrapped {border: 1px dashed gray;margin: 0 0.4em 0.5em 0.4em;box-sizing: border-box;padding-bottom: 0.4em;background-color: white;}#sk-container-id-8 div.sk-label label {font-family: monospace;font-weight: bold;display: inline-block;line-height: 1.2em;}#sk-container-id-8 div.sk-label-container {text-align: center;}#sk-container-id-8 div.sk-container {/* jupyter's `normalize.less` sets `[hidden] { display: none; }` but bootstrap.min.css set `[hidden] { display: none !important; }` so we also need the `!important` here to be able to override the default hidden behavior on the sphinx rendered scikit-learn.org. See: https://github.com/scikit-learn/scikit-learn/issues/21755 */display: inline-block !important;position: relative;}#sk-container-id-8 div.sk-text-repr-fallback {display: none;}</style><div id=\"sk-container-id-8\" class=\"sk-top-container\"><div class=\"sk-text-repr-fallback\"><pre>NearestNeighbors(algorithm=&#x27;brute&#x27;, metric=&#x27;cosine&#x27;)</pre><b>In a Jupyter environment, please rerun this cell to show the HTML representation or trust the notebook. <br />On GitHub, the HTML representation is unable to render, please try loading this page with nbviewer.org.</b></div><div class=\"sk-container\" hidden><div class=\"sk-item\"><div class=\"sk-estimator sk-toggleable\"><input class=\"sk-toggleable__control sk-hidden--visually\" id=\"sk-estimator-id-8\" type=\"checkbox\" checked><label for=\"sk-estimator-id-8\" class=\"sk-toggleable__label sk-toggleable__label-arrow\">NearestNeighbors</label><div class=\"sk-toggleable__content\"><pre>NearestNeighbors(algorithm=&#x27;brute&#x27;, metric=&#x27;cosine&#x27;)</pre></div></div></div></div></div>"
      ],
      "text/plain": [
       "NearestNeighbors(algorithm='brute', metric='cosine')"
      ]
     },
     "execution_count": 236,
     "metadata": {},
     "output_type": "execute_result"
    }
   ],
   "source": [
    "# Training the model\n",
    "movies_model = NearestNeighbors(metric='cosine', algorithm='brute', n_neighbors=5)\n",
    "movies_model.fit(m_train_matrix)"
   ]
  },
  {
   "cell_type": "code",
   "execution_count": 237,
   "metadata": {},
   "outputs": [],
   "source": [
    "# Finding the nearest neighbors\n",
    "distances, indices = movies_model.kneighbors(m_val_matrix, n_neighbors=5)"
   ]
  },
  {
   "cell_type": "code",
   "execution_count": 241,
   "metadata": {},
   "outputs": [],
   "source": [
    "# Creating a dictionary to store the user id and the indices and distances\n",
    "user_dict = {}\n",
    "for i in range (len(indices)):\n",
    "    user_id = m_val.iloc[i]['userID']\n",
    "    user_dict[user_id] = (indices[i], distances[i])"
   ]
  },
  {
   "cell_type": "code",
   "execution_count": 251,
   "metadata": {},
   "outputs": [],
   "source": [
    "# Calculate predicted ratings\n",
    "pred_ratings = [] # list to store predicted ratings\n",
    "for i in range(len(indices)): # for each user\n",
    "    user_id = m_val.iloc[i]['userID'] # get user id\n",
    "    movie_id = m_val.iloc[i]['movie_id'] # get movie id\n",
    "    knn_indices = user_dict[user_id][0] # get knn indices\n",
    "    knn_distances = user_dict[user_id][1] # get knn distances\n",
    "    rating_sum = 0 # sum of ratings\n",
    "    weight_sum = 0 # sum of weights\n",
    "    for j in range(len(knn_indices)): # for each neighbor\n",
    "        if knn_indices[j] == 0: # if the neighbor is the user itself,\n",
    "            continue\n",
    "        neighbor_id = knn_indices[j] # get neighbor id\n",
    "        neighbor_distance = knn_distances[j] # get neighbor distance\n",
    "        neighbor_rating = m_train_matrix[neighbor_id, movie_id] # get neighbor rating\n",
    "        rating_sum += neighbor_rating * (1 - neighbor_distance) # calculate weighted rating\n",
    "        weight_sum += (1 - neighbor_distance) # calculate weight\n",
    "    if weight_sum == 0: # if weight sum is 0, set predicted rating to 0\n",
    "        pred_rating = 0 # set predicted rating to 0 \n",
    "    else:\n",
    "        pred_rating = rating_sum / weight_sum # calculate predicted rating\n",
    "    pred_ratings.append(pred_rating) # append predicted rating to list"
   ]
  },
  {
   "cell_type": "code",
   "execution_count": 253,
   "metadata": {},
   "outputs": [],
   "source": [
    "# Create a copy of the validation set\n",
    "m_val_pred = m_val.iloc[:len(pred_ratings)].copy()\n",
    "# Add predicted ratings to the validation set\n",
    "m_val_pred['pred_rating'] = pred_ratings"
   ]
  },
  {
   "cell_type": "code",
   "execution_count": 254,
   "metadata": {},
   "outputs": [
    {
     "name": "stdout",
     "output_type": "stream",
     "text": [
      "RMSE on validation set: 3.453495949081733\n"
     ]
    }
   ],
   "source": [
    "# Calculate RMSE\n",
    "m_rmse = mean_squared_error(m_val_pred['Rating'], m_val_pred['pred_rating'], squared=False)\n",
    "print('RMSE on validation set:', m_rmse)"
   ]
  },
  {
   "attachments": {},
   "cell_type": "markdown",
   "metadata": {},
   "source": [
    "An RMSE of 3.453495949081733 means that on average, the predicted values of the target variable differ from the actual values by 3.453495949081733 units. Moreover, the smaller the value of RMSE, the better the performance of the model; and taking in cinsideration the ratin gscale of this dataset (1-5) the RMSE is considerably high."
   ]
  },
  {
   "cell_type": "markdown",
   "metadata": {},
   "source": [
    "### <b>3<span style='color:green'>|</span> Hyperparameter tunning"
   ]
  },
  {
   "cell_type": "code",
   "execution_count": 262,
   "metadata": {},
   "outputs": [
    {
     "name": "stdout",
     "output_type": "stream",
     "text": [
      "RMSE on validation set for n_neighbors = 5 , metric = cosine , algorithm = brute : 3.453495949081733\n",
      "RMSE on validation set for n_neighbors = 5 , metric = euclidean , algorithm = brute : 3.473431409706985\n",
      "RMSE on validation set for n_neighbors = 5 , metric = manhattan , algorithm = brute : 3.4740648322027994\n",
      "RMSE on validation set for n_neighbors = 10 , metric = cosine , algorithm = brute : 3.4529090215884946\n",
      "RMSE on validation set for n_neighbors = 10 , metric = euclidean , algorithm = brute : 3.4756683500471786\n",
      "RMSE on validation set for n_neighbors = 10 , metric = manhattan , algorithm = brute : 3.4736037703203935\n",
      "RMSE on validation set for n_neighbors = 15 , metric = cosine , algorithm = brute : 3.4525690850203055\n",
      "RMSE on validation set for n_neighbors = 15 , metric = euclidean , algorithm = brute : 3.4845612956462904\n",
      "RMSE on validation set for n_neighbors = 15 , metric = manhattan , algorithm = brute : 3.4737457300846315\n",
      "Best model: {'n_neighbors': 15, 'metric': 'cosine', 'algorithm': 'brute', 'rmse': 3.4525690850203055}\n"
     ]
    }
   ],
   "source": [
    "# Establish the parameters for the manual hyperparameter tuning\n",
    "neighbors1 = [5, 10, 15] \n",
    "metrics1 = ['cosine', 'euclidean', 'manhattan']\n",
    "algorithm1 = ['brute']\n",
    "# Create a list to store the models\n",
    "models = []\n",
    "# Set up the grid search in a nested loop\n",
    "for n in neighbors1:\n",
    "    for m in metrics1:\n",
    "        for a in algorithm1:\n",
    "            model123 = NearestNeighbors(n_neighbors=n, metric=m, algorithm=a) # Create the model\n",
    "            model123.fit(m_train_matrix) # Fit the model\n",
    "            distances, indices = model123.kneighbors(m_val_matrix) # Predict on validation set\n",
    "            # Creating a dictionary to store the user id and the indices and distances\n",
    "            user_dict = {}\n",
    "            for i in range (len(indices)):\n",
    "                user_id = m_val.iloc[i]['userID']\n",
    "                user_dict[user_id] = (indices[i], distances[i])\n",
    "            pred_ratings = [] # Create a list to store the predicted ratings\n",
    "            for i in range(len(indices)): # Calculate predicted ratings\n",
    "                user_id = m_val.iloc[i]['userID'] # Get the user ID\n",
    "                movie_id = m_val.iloc[i]['movie_id'] # Get the joke ID\n",
    "                knn_indices = user_dict[user_id][0] # get knn indices\n",
    "                knn_distances = user_dict[user_id][1] # get knn distances\n",
    "                rating_sum = 0 # Initialize the rating sum\n",
    "                weight_sum = 0 # Initialize the weight sum\n",
    "                for j in range(len(knn_indices)): # Calculate the weighted sum of the nearest neighbors' ratings\n",
    "                    if knn_indices[j] == 0: # Skip the user itself\n",
    "                        continue \n",
    "                    neighbor_id = knn_indices[j] # Get the neighbor ID\n",
    "                    neighbor_distance = knn_distances[j] # Get the neighbor distance\n",
    "                    neighbor_rating = m_train_matrix[neighbor_id, movie_id] # Get the neighbor rating\n",
    "                    rating_sum += neighbor_rating * (1 - neighbor_distance) # Calculate the weighted sum of the ratings\n",
    "                    weight_sum += (1 - neighbor_distance) # Calculate the sum of the weights\n",
    "                if weight_sum == 0: # If the weight sum is 0, set the predicted rating to 0\n",
    "                    pred_rating = 0 # Set the predicted rating to 0\n",
    "                else:\n",
    "                    pred_rating = rating_sum / weight_sum # Calculate the predicted rating\n",
    "                pred_ratings.append(pred_rating) # Append the predicted rating to the list\n",
    "            m_val_pred['pred_rating'] = pred_ratings # Add the predicted ratings to the validation set\n",
    "            m_rmse = mean_squared_error(m_val_pred['Rating'], m_val_pred['pred_rating'], squared=False) # Calculate RMSE\n",
    "            models.append({'n_neighbors': n, 'metric': m, 'algorithm': a, 'rmse': m_rmse}) # Append the model (as adictionary) to a list\n",
    "            print('RMSE on validation set for n_neighbors =', n, ', metric =', m, ', algorithm =', a, ':', m_rmse)\n",
    "\n",
    "# Find the best model in the manual grid search\n",
    "m_best_model = min(models, key=lambda x: x['rmse']) # Find the model with the lowest RMSE\n",
    "print('Best model:', m_best_model)"
   ]
  },
  {
   "attachments": {},
   "cell_type": "markdown",
   "metadata": {},
   "source": [
    "#### KNN Hyperparameter tunning code explanation\n",
    "The code presented above this markdown performs a manual hyperparameter search to find the best hyperparameters for a KNN model, and evaluating the performance of each model on a validation set. The goal is to find the hyperparameters that result in the lowest RMSE on the validation set, which indicates the best performance. Following a short explanation of every step of the code is presented:\n",
    "\n",
    "1. The code first establishes the parameters for manual hyperparameter tuning, including the number of neighbors to consider (5, 10, or 15), the distance metric to use for similarity calculation (cosine, Euclidean, or Manhattan), and the algorithm to use for finding nearest neighbors (brute force).\n",
    "\n",
    "2.  The code creates an empty list called \"models\" to store the results of each model.\n",
    "\n",
    "3.  The code then sets up a nested loop that iterates over each combination of the hyperparameters defined in step 1, and for each combination, creates a new instance of the KNN model with the specified hyperparameters, fits the model to the training data, and predicts on the validation data.\n",
    "\n",
    "4.  For each predicted rating, the code calculates a weighted sum of the nearest neighbors' ratings, where the weights are based on the inverse of the distances between the neighbors and the target user. The predicted rating is then appended to a list called \"pred_ratings\".\n",
    "\n",
    "5.  The code calculates the RMSE (root mean squared error) between the predicted ratings and the actual ratings on the validation set, and appends the hyperparameters and RMSE to the \"models\" list.\n",
    "\n",
    "6.  Finally, the code finds the best model with the lowest RMSE and prints the hyperparameters and RMSE of the best model."
   ]
  },
  {
   "attachments": {},
   "cell_type": "markdown",
   "metadata": {},
   "source": [
    "#### Results of KNN Hyperparameter tunning analysis\n",
    "- The results represent the performance of a k-Nearest Neighbors (k-NN) model with different hyperparameters on a validation set, as measured by the Root Mean Squared Error (RMSE). The hyperparameters that were tested include the number of neighbors (n_neighbors), the distance metric used to compute distances between points (metric), and the algorithm used to compute the nearest neighbors (algorithm).\n",
    "\n",
    "- Based on the results, the best combination of hyperparameters was found to be n_neighbors = 15, metric = cosine, and algorithm = brute, with an RMSE of 3.4525 on the validation set. This suggests that the k-NN model with these hyperparameters performs better than the other tested combinations."
   ]
  },
  {
   "cell_type": "code",
   "execution_count": 272,
   "metadata": {},
   "outputs": [
    {
     "name": "stdout",
     "output_type": "stream",
     "text": [
      "RMSE on validation set using best model: 3.4408946764093153\n"
     ]
    }
   ],
   "source": [
    "# Extract the hyperparameters of the best model\n",
    "best_n_neighbors = m_best_model['n_neighbors']\n",
    "best_metric = m_best_model['metric']\n",
    "best_algorithm = m_best_model['algorithm']\n",
    "\n",
    "# Fitting the model with the best parameters\n",
    "best_model = NearestNeighbors(n_neighbors = best_n_neighbors, metric=best_metric, algorithm=best_algorithm) \n",
    "best_model.fit(m_train_matrix)\n",
    "\n",
    "# Predict on test set using the best model\n",
    "distances, indices = best_model.kneighbors(m_test_matrix)\n",
    "\n",
    "# Updating dictionary to store the user id and the indices and distances for the best model\n",
    "user_dict = {}\n",
    "for i in range (len(indices)):\n",
    "    user_id = m_test.iloc[i]['userID']\n",
    "    user_dict[user_id] = (indices[i], distances[i])\n",
    "\n",
    "# Calculate predicted ratings\n",
    "pred_ratings = []\n",
    "for i in range(len(indices)):\n",
    "    user_id = m_test.iloc[i]['userID']\n",
    "    movie_id = m_test.iloc[i]['movie_id']\n",
    "    knn_indices = user_dict[user_id][0] # get knn indices\n",
    "    knn_distances = user_dict[user_id][1] # get knn distances\n",
    "    rating_sum = 0\n",
    "    weight_sum = 0\n",
    "    for j in range(len(knn_indices)):\n",
    "        if knn_indices[j] == 0:\n",
    "            continue\n",
    "        neighbor_id = knn_indices[j]\n",
    "        neighbor_distance = knn_distances[j]\n",
    "        neighbor_rating = m_train_matrix[neighbor_id, movie_id]\n",
    "        rating_sum += neighbor_rating * (1 - neighbor_distance)\n",
    "        weight_sum += (1 - neighbor_distance)\n",
    "    if weight_sum == 0:\n",
    "        pred_rating = 0\n",
    "    else:\n",
    "        pred_rating = rating_sum / weight_sum\n",
    "    pred_ratings.append(pred_rating)\n",
    "\n",
    "# Create a copy of the validation set\n",
    "m_test_pred = m_test.iloc[:len(pred_ratings)].copy()\n",
    "# Add predicted ratings to the validation set\n",
    "m_test_pred['pred_rating'] = pred_ratings \n",
    "\n",
    "# Calculate RMSE using the best model\n",
    "m_rmse = mean_squared_error(m_test_pred['Rating'], m_test_pred['pred_rating'], squared=False) # Calculate RMSE\n",
    "print('RMSE on validation set using best model:', m_rmse)"
   ]
  },
  {
   "attachments": {},
   "cell_type": "markdown",
   "metadata": {},
   "source": [
    "### <b>3<span style='color:green'>|</span> SVD with Surprise PACKAGE"
   ]
  },
  {
   "cell_type": "code",
   "execution_count": 303,
   "metadata": {},
   "outputs": [],
   "source": [
    "# Transforming final_df into a Surprise specific data structure\n",
    "# Creating a surprise reader object to read the data while mentioning the rating scale\n",
    "reader = surprise.Reader(rating_scale=(1, 5))\n",
    "# Loading the data into a surprise dataset object\n",
    "svd_data = surprise.Dataset.load_from_df(final_df[['userID', 'movie_id', 'Rating']], reader)"
   ]
  },
  {
   "cell_type": "code",
   "execution_count": 304,
   "metadata": {},
   "outputs": [
    {
     "name": "stdout",
     "output_type": "stream",
     "text": [
      "RMSE: 0.9953\n"
     ]
    },
    {
     "data": {
      "text/plain": [
       "0.9952919699254139"
      ]
     },
     "execution_count": 304,
     "metadata": {},
     "output_type": "execute_result"
    }
   ],
   "source": [
    "# Splitting the data into train and test sets 0.75 for training and 0.25 for testing\n",
    "trainset, testset = split_sur(svd_data, test_size=0.25)\n",
    "# We'll use the famous SVD algorithm.\n",
    "algo = SVD()\n",
    "\n",
    "# Train the algorithm on the trainset, and predict ratings for the testset\n",
    "algo.fit(trainset)\n",
    "predictions = algo.test(testset)\n",
    "\n",
    "# Then compute RMSE\n",
    "accuracy.rmse(predictions)"
   ]
  },
  {
   "attachments": {},
   "cell_type": "markdown",
   "metadata": {},
   "source": [
    "- The root mean squared error (RMSE) value of 0.9953 indicates the level of prediction error of a Singular Value Decomposition (SVD) model trained on a dataset. The RMSE is a measure of how well the model is able to predict the ratings of the users based on their past ratings.\n",
    "\n",
    "- A lower RMSE value indicates better prediction accuracy of the model, as it means that the predicted ratings are closer to the actual ratings. In this case, an RMSE value of 0.9608 suggests that the SVD model is reasonably accurate in predicting the ratings, but there may be some room for improvement in the model's predictive power."
   ]
  },
  {
   "attachments": {},
   "cell_type": "markdown",
   "metadata": {},
   "source": [
    "### 3.1 SVD Cross Validation"
   ]
  },
  {
   "cell_type": "code",
   "execution_count": 305,
   "metadata": {},
   "outputs": [
    {
     "name": "stdout",
     "output_type": "stream",
     "text": [
      "Evaluating RMSE, MAE of algorithm SVD on 5 split(s).\n",
      "\n",
      "                  Fold 1  Fold 2  Fold 3  Fold 4  Fold 5  Mean    Std     \n",
      "RMSE (testset)    0.9969  0.9976  0.9961  0.9968  0.9980  0.9971  0.0007  \n",
      "MAE (testset)     0.7794  0.7830  0.7841  0.7846  0.7845  0.7831  0.0019  \n",
      "Fit time          3.95    3.95    3.84    3.96    3.93    3.93    0.04    \n",
      "Test time         0.44    0.82    0.42    0.41    0.40    0.50    0.16    \n"
     ]
    },
    {
     "data": {
      "text/plain": [
       "{'test_rmse': array([0.99686661, 0.99762804, 0.9961069 , 0.99676885, 0.99795643]),\n",
       " 'test_mae': array([0.77940129, 0.78301824, 0.7840515 , 0.78464291, 0.78451262]),\n",
       " 'fit_time': (3.9507358074188232,\n",
       "  3.945181131362915,\n",
       "  3.8446741104125977,\n",
       "  3.9610471725463867,\n",
       "  3.9345738887786865),\n",
       " 'test_time': (0.4429280757904053,\n",
       "  0.823610782623291,\n",
       "  0.4155580997467041,\n",
       "  0.4126565456390381,\n",
       "  0.4044158458709717)}"
      ]
     },
     "execution_count": 305,
     "metadata": {},
     "output_type": "execute_result"
    }
   ],
   "source": [
    "# Run 5-fold cross-validation and print results on based on the extracted final dataset\n",
    "cross_validate(algo, svd_data, measures=[\"RMSE\", \"MAE\"], cv=5, verbose=True)"
   ]
  },
  {
   "attachments": {},
   "cell_type": "markdown",
   "metadata": {},
   "source": [
    "- RMSE (testset): This is the Root Mean Squared Error on the test set. It measures the average difference between the predicted ratings and the actual ratings. In this case, the average RMSE across the 5 folds is 0.9971 with a standard deviation of 0.0007. This indicates that the SVD model is performing well, with low error on the test set.\n",
    "\n",
    "- MAE (testset): This is the Mean Absolute Error on the test set. It measures the average absolute difference between the predicted ratings and the actual ratings. In this case, the average MAE across the 5 folds is 0.7831 with a standard deviation of 0.0019. This indicates that the SVD model is also performing well in terms of the absolute difference between predicted and actual ratings.\n",
    "\n",
    "- Fit time: This is the time taken to train the SVD model on the training set for each fold. In this case, the average fit time across the 5 folds is 3.93 seconds with a standard deviation of 0.04 seconds. This indicates that the SVD model is relatively fast to train.\n",
    "\n",
    "- Test time: This is the time taken to make predictions on the test set for each fold. In this case, the average test time across the 5 folds is 0.50 seconds with a standard deviation of 0.16 seconds. This indicates that the SVD model is relatively fast to make predictions."
   ]
  },
  {
   "attachments": {},
   "cell_type": "markdown",
   "metadata": {},
   "source": [
    "### 3.2 SVD (training the model on the whole dataset) "
   ]
  },
  {
   "cell_type": "code",
   "execution_count": 306,
   "metadata": {},
   "outputs": [
    {
     "data": {
      "text/plain": [
       "<surprise.prediction_algorithms.matrix_factorization.SVD at 0x1e16a151270>"
      ]
     },
     "execution_count": 306,
     "metadata": {},
     "output_type": "execute_result"
    }
   ],
   "source": [
    "# Training the model on the whole dataset\n",
    "svd_algo = surprise.SVD()\n",
    "# Building the trainset\n",
    "trainset = svd_data.build_full_trainset()\n",
    "# Training the algorithm on the trainset\n",
    "svd_algo.fit(trainset)"
   ]
  },
  {
   "cell_type": "code",
   "execution_count": 274,
   "metadata": {},
   "outputs": [],
   "source": [
    "# Creating a function to get a random user id\n",
    "def get_random_value_from_column(df, column_name): \n",
    "    col = df[column_name] # get the column\n",
    "    if len(col) > 0: # if the column is not empty\n",
    "        rand_idx = random.randint(0, len(col)-1) # get a random index\n",
    "        return col.iloc[rand_idx] # return the value at the random index\n",
    "    else:\n",
    "        return None"
   ]
  },
  {
   "cell_type": "code",
   "execution_count": 310,
   "metadata": {},
   "outputs": [
    {
     "name": "stdout",
     "output_type": "stream",
     "text": [
      "The 3 recommended movies for the user #  2317420 are: ['Lord of the Rings: The Return of the King: Extended Edition: Bonus Material', \"ABC Primetime: Mel Gibson's The Passion of the Christ\", 'I Love Lucy: Season 2']\n"
     ]
    }
   ],
   "source": [
    "# Get a random user ID from the whole set\n",
    "x = get_random_value_from_column(final_df,'userID') \n",
    "k = 3 # Number of movies that are going to be recommended\n",
    "\n",
    "# recommend top-k movies for a given user\n",
    "user_items = trainset.ur[trainset.to_inner_uid(x)]\n",
    "not_watched = [item_id for item_id in trainset.all_items() if item_id not in user_items]\n",
    "predictions = [svd_algo.predict(x, item_id) for item_id in not_watched]\n",
    "top_k_predictions = sorted(predictions, key=lambda x: x.est, reverse=True)[:k]\n",
    "recommended_titles = [final_df[final_df['movie_id'] == pred.iid]['title'].iloc[0] for pred in top_k_predictions]\n",
    "\n",
    "# print the recommended movie titles\n",
    "print('The 3 recommended movies for the user # ', x, 'are:' , recommended_titles)"
   ]
  },
  {
   "attachments": {},
   "cell_type": "markdown",
   "metadata": {},
   "source": [
    "#### 3.3 Tune algorithm parameters with GridSearchCV"
   ]
  },
  {
   "attachments": {},
   "cell_type": "markdown",
   "metadata": {},
   "source": [
    "Evaluating the average RMSE and MAE over a 3-fold cross-validation procedure"
   ]
  },
  {
   "cell_type": "code",
   "execution_count": 311,
   "metadata": {},
   "outputs": [
    {
     "name": "stdout",
     "output_type": "stream",
     "text": [
      "0.9970151192165981\n",
      "{'n_epochs': 10, 'lr_all': 0.005, 'reg_all': 0.4}\n"
     ]
    }
   ],
   "source": [
    "#  Defining a parameter grid for SVD\n",
    "param_grid = {\"n_epochs\": [5, 10], \"lr_all\": [0.002, 0.005], \"reg_all\": [0.4, 0.6]}\n",
    "# Using the grid search to find the best parameters\n",
    "gs = GridSearchCV(SVD, param_grid, measures=[\"rmse\", \"mae\"], cv=3)\n",
    "# Fitting the model\n",
    "gs.fit(svd_data)\n",
    "\n",
    "# best RMSE score\n",
    "print(gs.best_score[\"rmse\"])\n",
    "\n",
    "# combination of parameters that gave the best RMSE score\n",
    "print(gs.best_params[\"rmse\"])"
   ]
  },
  {
   "attachments": {},
   "cell_type": "markdown",
   "metadata": {},
   "source": [
    "The hyperparameters that were tested in the grid search were:\n",
    "\n",
    "- n_epochs: the number of epochs used in the training of the model.\n",
    "- lr_all: the learning rate used in the Stochastic Gradient Descent (SGD) optimization algorithm.\n",
    "- reg_all: the regularization parameter used in the training of the model.\n",
    "\n",
    "The best combination of hyperparameters that resulted in the lowest RMSE on the validation set is:\n",
    "\n",
    "- n_epochs: 10\n",
    "- lr_all: 0.005\n",
    "- reg_all: 0.4\n",
    "\n",
    "The RMSE value of 0.997015 indicates the level of prediction error of the SVD model with the best hyperparameters. A lower RMSE value indicates better prediction accuracy of the model. In this case, an RMSE value of 0.997015 suggests that the SVD model with the selected hyperparameters is reasonably accurate in predicting the ratings, but there may still be some room for improvement as the RMSE is still relatively high compared to the scale of the ratings (1-5)."
   ]
  },
  {
   "cell_type": "code",
   "execution_count": 312,
   "metadata": {},
   "outputs": [
    {
     "data": {
      "text/plain": [
       "<surprise.prediction_algorithms.matrix_factorization.SVD at 0x1e100167520>"
      ]
     },
     "execution_count": 312,
     "metadata": {},
     "output_type": "execute_result"
    }
   ],
   "source": [
    "# Fitting the model with the best parameters\n",
    "best_algo = gs.best_estimator[\"rmse\"]\n",
    "best_algo.fit(svd_data.build_full_trainset())"
   ]
  },
  {
   "attachments": {},
   "cell_type": "markdown",
   "metadata": {},
   "source": [
    "### 3.4 Using best model for recommendations"
   ]
  },
  {
   "cell_type": "code",
   "execution_count": 313,
   "metadata": {},
   "outputs": [
    {
     "name": "stdout",
     "output_type": "stream",
     "text": [
      "The 3 recommended movies for the user #  2317420 are: ['Lord of the Rings: The Return of the King: Extended Edition: Bonus Material', 'Aqua Teen Hunger Force: Vol. 1', 'Invader Zim']\n"
     ]
    }
   ],
   "source": [
    "# Get a random user ID from the whole set\n",
    "x1 = get_random_value_from_column(final_df,'userID') \n",
    "# Number of movies that are going to be recommended\n",
    "k = 3 \n",
    "\n",
    "# recommend top-k movies for a given user\n",
    "user_items = trainset.ur[trainset.to_inner_uid(x1)]\n",
    "not_watched = [item_id for item_id in trainset.all_items() if item_id not in user_items]\n",
    "predictions = [best_algo.predict(x1, item_id) for item_id in not_watched]\n",
    "top_k_predictions = sorted(predictions, key=lambda x1: x1.est, reverse=True)[:k]\n",
    "recommended_titles = [final_df[final_df['movie_id'] == pred.iid]['title'].iloc[0] for pred in top_k_predictions]\n",
    "\n",
    "# print the recommended movie titles\n",
    "print('The 3 recommended movies for the user # ', x, 'are:' , recommended_titles)"
   ]
  },
  {
   "attachments": {},
   "cell_type": "markdown",
   "metadata": {},
   "source": [
    "## <b>3<span style='color:green'>|</span> Conclussions / Answers to research question and sub research questions"
   ]
  },
  {
   "attachments": {},
   "cell_type": "markdown",
   "metadata": {},
   "source": [
    " #### <b><span style='color:green'> How does the performance of different recommendation systems, such as a KNN collaborative filtering and SVD, compare in predicting user ratings in the Netflix Prize dataset?\n",
    "In terms of the RMSE, the SVD model performed better than the k-NN model. The RMSE value of 0.997015 for the SVD (Surprise package) model is lower than the RMSE value of 3.453495949081733 for the k-NN model. This suggests that the SVD model is more accurate in predicting the ratings than the k-NN model (manually performed).\n",
    "\n",
    "##### <b><span style='color:green'> What is the accuracy of KNN collaborative filtering and SVD in predicting user ratings in the Netflix Prize dataset?\n",
    "The accuracy of KNN collaborative filtering and SVD in predicting user ratings in the Netflix Prize dataset is 0.997015 and 3.453495949081733 respectively.\n",
    "    \n",
    "##### <b><span style='color:green'> How do the KNN collaborative filtering and SVD recommendation systems differ in their approach to predicting user ratings?\n",
    "K-Nearest Neighbors (KNN) collaborative filtering and Singular Value Decomposition (SVD) recommendation systems are two popular approaches used in collaborative filtering. KNN predicts a user's rating based on the ratings of the k most similar users to the target user, whereas SVD factorizes the user-item rating matrix into two lower dimensional matrices to learn the underlying structure of the rating matrix. KNN is a memory-based approach that relies on pairwise similarities between users, while SVD is a model-based approach that learns underlying patterns. The key difference between the two approaches lies in how they model user-item interactions.\n",
    " \n",
    "##### <b><span style='color:green'> How does the size of the dataset affect the performance of KNN collaborative filtering and SVD recommendation systems in predicting user ratings?\n",
    "The size of the dataset affects the performance of KNN collaborative filtering and SVD recommendation systems in predicting user ratings. The larger the dataset, the more accurate the predictions will be. This is because the larger the dataset, the more data points are available to train the model, and the more accurate the model will be in predicting the ratings. Nevertheless, in this particular case, due to hardware limitations, the dataset was reduced dramatically to make to computation possible, which clarly afected and limited the final results and performance of the models (specially the manual KNN model).\n",
    "\n",
    "##### <b><span style='color:green'> Can the performance of KNN collaborative filtering and SVD recommendation systems be improved by combining them or using hybrid approaches? \n",
    "Due to time and resources limitations, it was not possible to combine or use hybrid approaches to improve the performance of KNN collaborative filtering and SVD recommendation systems. However, it is possible to improve the performance of KNN collaborative filtering and SVD recommendation systems by using the Surprise package, which is a Python scikit building and analyzing recommender systems that deal with explicit rating data. The Surprise package provides a wide range of algorithms, including KNN and SVD, and it also provides a grid search function to tune the hyperparameters of the algorithms. This allows us to find the best combination of hyperparameters for each algorithm, which can potentially improve the performance of the algorithms."
   ]
  }
 ],
 "metadata": {
  "kernelspec": {
   "display_name": "base",
   "language": "python",
   "name": "python3"
  },
  "language_info": {
   "codemirror_mode": {
    "name": "ipython",
    "version": 3
   },
   "file_extension": ".py",
   "mimetype": "text/x-python",
   "name": "python",
   "nbconvert_exporter": "python",
   "pygments_lexer": "ipython3",
   "version": "3.10.9"
  },
  "orig_nbformat": 4,
  "vscode": {
   "interpreter": {
    "hash": "ddcf38f57714f437deb22aa5c2c8e5195740c277d73afcab5f6f2b52a24a92aa"
   }
  }
 },
 "nbformat": 4,
 "nbformat_minor": 2
}
